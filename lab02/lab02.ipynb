{
 "cells": [
  {
   "cell_type": "code",
   "execution_count": 1,
   "metadata": {},
   "outputs": [],
   "source": [
    "import pandas\n",
    "import re\n",
    "import nltk\n",
    "import numpy as np\n",
    "import unidecode\n"
   ]
  },
  {
   "cell_type": "code",
   "execution_count": 2,
   "metadata": {},
   "outputs": [
    {
     "data": {
      "text/html": [
       "<div>\n",
       "<style scoped>\n",
       "    .dataframe tbody tr th:only-of-type {\n",
       "        vertical-align: middle;\n",
       "    }\n",
       "\n",
       "    .dataframe tbody tr th {\n",
       "        vertical-align: top;\n",
       "    }\n",
       "\n",
       "    .dataframe thead th {\n",
       "        text-align: right;\n",
       "    }\n",
       "</style>\n",
       "<table border=\"1\" class=\"dataframe\">\n",
       "  <thead>\n",
       "    <tr style=\"text-align: right;\">\n",
       "      <th></th>\n",
       "      <th>text</th>\n",
       "    </tr>\n",
       "  </thead>\n",
       "  <tbody>\n",
       "    <tr>\n",
       "      <th>0</th>\n",
       "      <td>A juíza federal Ivani Silva da Luz  de Brasíli...</td>\n",
       "    </tr>\n",
       "    <tr>\n",
       "      <th>1</th>\n",
       "      <td>Menos de    horas depois de a juíza federal Iv...</td>\n",
       "    </tr>\n",
       "    <tr>\n",
       "      <th>2</th>\n",
       "      <td>Quando  determinou que  de    de março       u...</td>\n",
       "    </tr>\n",
       "    <tr>\n",
       "      <th>3</th>\n",
       "      <td>Quando  era pequeno   Luisa e  Gabriel se preo...</td>\n",
       "    </tr>\n",
       "    <tr>\n",
       "      <th>4</th>\n",
       "      <td>Desde a manhã da última segunda-feira     e   ...</td>\n",
       "    </tr>\n",
       "  </tbody>\n",
       "</table>\n",
       "</div>"
      ],
      "text/plain": [
       "                                                text\n",
       "0  A juíza federal Ivani Silva da Luz  de Brasíli...\n",
       "1  Menos de    horas depois de a juíza federal Iv...\n",
       "2  Quando  determinou que  de    de março       u...\n",
       "3  Quando  era pequeno   Luisa e  Gabriel se preo...\n",
       "4  Desde a manhã da última segunda-feira     e   ..."
      ]
     },
     "execution_count": 2,
     "metadata": {},
     "output_type": "execute_result"
    }
   ],
   "source": [
    "original_data = pandas.read_csv('./results.csv')\n",
    "corpus_news = original_data.loc[:,['text']]\n",
    "amount_doc = len(corpus_news.text)\n",
    "corpus_news.text = corpus_news.text.apply(lambda x: re.sub(r'[,\\.:;1-9\"]', ' ', x))\n",
    "corpus_news.head()"
   ]
  },
  {
   "cell_type": "code",
   "execution_count": 3,
   "metadata": {},
   "outputs": [],
   "source": [
    "corpus_news = corpus_news[\"text\"].str.split(\" \", expand = True)\n",
    "corpus_words = pandas.DataFrame(corpus_news.values.ravel('F')).dropna()\n",
    "corpus_words.columns = ['words']\n",
    "corpus_words[\"words\"] = corpus_words.words.apply(lambda tokens: nltk.word_tokenize(tokens))"
   ]
  },
  {
   "cell_type": "code",
   "execution_count": 4,
   "metadata": {},
   "outputs": [],
   "source": [
    "treated_words = pandas.DataFrame(corpus_words.words.apply(lambda tokens: max(tokens, key=len)if len(tokens) >= 1 else np.nan).dropna())\n",
    "df = pandas.DataFrame(treated_words['words'].value_counts())"
   ]
  },
  {
   "cell_type": "code",
   "execution_count": 6,
   "metadata": {},
   "outputs": [],
   "source": [
    "wd_occurrences = df[\"words\"].sum()\n",
    "vocab_size = len(df)\n",
    "words1K = len(df[df[\"words\"]>1000])\n",
    "words1 = len(df[df[\"words\"]>1])"
   ]
  }
 ],
 "metadata": {
  "kernelspec": {
   "display_name": "Python 3",
   "language": "python",
   "name": "python3"
  },
  "language_info": {
   "codemirror_mode": {
    "name": "ipython",
    "version": 2
   },
   "file_extension": ".py",
   "mimetype": "text/x-python",
   "name": "python",
   "nbconvert_exporter": "python",
   "pygments_lexer": "ipython2",
   "version": "2.7.12"
  }
 },
 "nbformat": 4,
 "nbformat_minor": 2
}
