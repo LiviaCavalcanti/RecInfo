{
 "cells": [
  {
   "cell_type": "code",
   "execution_count": 44,
   "metadata": {},
   "outputs": [
    {
     "ename": "ImportError",
     "evalue": "No module named nltk",
     "output_type": "error",
     "traceback": [
      "\u001b[0;31m---------------------------------------------------------------------------\u001b[0m",
      "\u001b[0;31mImportError\u001b[0m                               Traceback (most recent call last)",
      "\u001b[0;32m<ipython-input-44-85a734d99a87>\u001b[0m in \u001b[0;36m<module>\u001b[0;34m()\u001b[0m\n\u001b[1;32m      1\u001b[0m \u001b[0;32mimport\u001b[0m \u001b[0mpandas\u001b[0m\u001b[0;34m\u001b[0m\u001b[0m\n\u001b[1;32m      2\u001b[0m \u001b[0;32mimport\u001b[0m \u001b[0mre\u001b[0m\u001b[0;34m\u001b[0m\u001b[0m\n\u001b[0;32m----> 3\u001b[0;31m \u001b[0;32mimport\u001b[0m \u001b[0mnltk\u001b[0m\u001b[0;34m\u001b[0m\u001b[0m\n\u001b[0m",
      "\u001b[0;31mImportError\u001b[0m: No module named nltk"
     ]
    }
   ],
   "source": [
    "import pandas\n",
    "import re\n",
    "# import nltk"
   ]
  },
  {
   "cell_type": "code",
   "execution_count": 43,
   "metadata": {},
   "outputs": [
    {
     "data": {
      "text/html": [
       "<div>\n",
       "<style scoped>\n",
       "    .dataframe tbody tr th:only-of-type {\n",
       "        vertical-align: middle;\n",
       "    }\n",
       "\n",
       "    .dataframe tbody tr th {\n",
       "        vertical-align: top;\n",
       "    }\n",
       "\n",
       "    .dataframe thead th {\n",
       "        text-align: right;\n",
       "    }\n",
       "</style>\n",
       "<table border=\"1\" class=\"dataframe\">\n",
       "  <thead>\n",
       "    <tr style=\"text-align: right;\">\n",
       "      <th></th>\n",
       "      <th>text</th>\n",
       "    </tr>\n",
       "  </thead>\n",
       "  <tbody>\n",
       "    <tr>\n",
       "      <th>0</th>\n",
       "      <td>A juíza federal Ivani Silva da Luz  de Brasíli...</td>\n",
       "    </tr>\n",
       "    <tr>\n",
       "      <th>1</th>\n",
       "      <td>Menos de    horas depois de a juíza federal Iv...</td>\n",
       "    </tr>\n",
       "    <tr>\n",
       "      <th>2</th>\n",
       "      <td>Quando  determinou que  de    de março       u...</td>\n",
       "    </tr>\n",
       "    <tr>\n",
       "      <th>3</th>\n",
       "      <td>Quando  era pequeno   Luisa e  Gabriel se preo...</td>\n",
       "    </tr>\n",
       "    <tr>\n",
       "      <th>4</th>\n",
       "      <td>Desde a manhã da última segunda-feira     e   ...</td>\n",
       "    </tr>\n",
       "  </tbody>\n",
       "</table>\n",
       "</div>"
      ],
      "text/plain": [
       "                                                text\n",
       "0  A juíza federal Ivani Silva da Luz  de Brasíli...\n",
       "1  Menos de    horas depois de a juíza federal Iv...\n",
       "2  Quando  determinou que  de    de março       u...\n",
       "3  Quando  era pequeno   Luisa e  Gabriel se preo...\n",
       "4  Desde a manhã da última segunda-feira     e   ..."
      ]
     },
     "execution_count": 43,
     "metadata": {},
     "output_type": "execute_result"
    }
   ],
   "source": [
    "original_data = pandas.read_csv('./results.csv')\n",
    "corpus_news = original_data.loc[:,['text']]\n",
    "corpus_news.text = corpus_news.text.apply(lambda x: re.sub(r'[,\\.:;1-9\"]', ' ', x))\n",
    "corpus_news.head()"
   ]
  },
  {
   "cell_type": "code",
   "execution_count": 42,
   "metadata": {},
   "outputs": [
    {
     "data": {
      "text/plain": [
       "0      A juíza federal Ivani Silva da Luz  de Brasíli...\n",
       "1      Menos de    horas depois de a juíza federal Iv...\n",
       "2      Quando  determinou que  de    de março       u...\n",
       "3      Quando  era pequeno   Luisa e  Gabriel se preo...\n",
       "4      Desde a manhã da última segunda-feira     e   ...\n",
       "5      Rosângela Serra Paraná não sabe quantos anos t...\n",
       "6      Trajetória similar tiveram outros vários agent...\n",
       "7      A devoção dos cristãos evangélicos em seu apoi...\n",
       "8      O homem mais famoso da era vitoriana  o “poeta...\n",
       "9      Depois de   inclusive o da crítica internacion...\n",
       "10     É difícil exagerar quanto do que foi escrito s...\n",
       "11     Nenhuma imagem é inocente  E isso é o que comp...\n",
       "12     Talvez a melhor explicação sobre a prodigiosa ...\n",
       "13     O Cemitério São Bento  no centro de Araraquara...\n",
       "14     Sabíamos que no Brasil majoritariamente solidá...\n",
       "15     Em        fez uma viagem pela Sibéria que duro...\n",
       "16     No momento em que o papado de  se vê envolvido...\n",
       "17     Nos apenas dois meses em que está no cargo  o ...\n",
       "18     Em apenas dois meses de Governo  o Brasil se t...\n",
       "19     Hoje    celebra-se o primeiro aniversário do i...\n",
       "20     Foram necessários apenas poucos dias e uma reu...\n",
       "21     Durante sua triunfante campanha presidencial  ...\n",
       "22     Trump não é o único mandatário que abre mão de...\n",
       "23     A expansão continua  mas está perdendo força m...\n",
       "24     O historiador e cientista político Boris Faust...\n",
       "25     Havia expectativa no  quanto à estreia de  no ...\n",
       "26     O executivo franco-brasileiro   detido no Japã...\n",
       "27     O  obteve em  0   um lucro líquido global de  ...\n",
       "28     O que têm em comum os restos de fuzilados depo...\n",
       "29     Apenas sete anos depois de sua estreia    aque...\n",
       "                             ...                        \n",
       "219    O lance mínimo da   cujo o leilão ocorre nesta...\n",
       "220    “A gente está vendo a corrosão geral das polít...\n",
       "221    MAIS INFORMAÇÕESDurante as cinco horas que dur...\n",
       "222    O procurador da Justiça Militar aposentado Dur...\n",
       "223    Na época do sequestro  a Condor era uma alianç...\n",
       "224    Após quase duas semanas de ataques verbais  os...\n",
       "225    O laudo de exames feitos em  neto do   descart...\n",
       "226    A Câmara dos Vereadores do  abriu nesta terça-...\n",
       "227    Mais de    horas após o silêncio diante da vei...\n",
       "228    No último domingo  enquanto militantes a favor...\n",
       "229    “Putas feministas”  gritava descontroladamente...\n",
       "230    Se não   o ministro  (Economia) apresenta aos ...\n",
       "231    Aceito qualquer coisa  A frase era recorrente ...\n",
       "232    O ministro da Educação  Ricardo Vélez  segue e...\n",
       "233    O  ainda é a preferência da maior parte dos el...\n",
       "234    Assim que chegar a Brasília  (PSL)  que declar...\n",
       "235    A aprovação do Governo de  (PSL)  que completa...\n",
       "236    O  vai estabelecer o pagamento de um   º para ...\n",
       "237    “Isto aqui é uma psicanálise coletiva”  diz Ad...\n",
       "238    Duas semanas após o massacre de Suzano  invest...\n",
       "239    A esperada ida do   à Comissão de Constituição...\n",
       "240    Uma ação da Rota  a tropa de elite da  do Esta...\n",
       "241    Na trama  o veterano ator Jackson Antunes inte...\n",
       "242    Depois de investir em transplantes capilares  ...\n",
       "243    Conquistar uma   derrubá-la  subjugá-la  deixá...\n",
       "244    Em um remoto trecho do deserto sírio  no povoa...\n",
       "245    O anúncio de cessar-fogo com mediação egípcia ...\n",
       "246    A chegada de dois aviões militares russos ao a...\n",
       "247     O que você destacaria de positivo e negativo ...\n",
       "248    “A única coisa que desejamos é sair daqui  Não...\n",
       "Name: text, Length: 249, dtype: object"
      ]
     },
     "execution_count": 42,
     "metadata": {},
     "output_type": "execute_result"
    }
   ],
   "source": []
  }
 ],
 "metadata": {
  "kernelspec": {
   "display_name": "Python 2",
   "language": "python",
   "name": "python2"
  },
  "language_info": {
   "codemirror_mode": {
    "name": "ipython",
    "version": 2
   },
   "file_extension": ".py",
   "mimetype": "text/x-python",
   "name": "python",
   "nbconvert_exporter": "python",
   "pygments_lexer": "ipython2",
   "version": "2.7.15rc1"
  }
 },
 "nbformat": 4,
 "nbformat_minor": 2
}
