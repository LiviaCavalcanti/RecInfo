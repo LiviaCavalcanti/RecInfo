{
 "cells": [
  {
   "cell_type": "code",
   "execution_count": 1,
   "metadata": {
    "colab": {},
    "colab_type": "code",
    "id": "ZDMFHYZYQ-DE"
   },
   "outputs": [],
   "source": [
    "import pandas as pd\n",
    "import re\n",
    "import nltk\n",
    "import numpy as np\n",
    "from nltk.tokenize import RegexpTokenizer\n",
    "from nltk.corpus import stopwords\n",
    "from nltk import stem\n",
    "import math\n",
    "import operator"
   ]
  },
  {
   "cell_type": "code",
   "execution_count": 2,
   "metadata": {
    "colab": {
     "base_uri": "https://localhost:8080/",
     "height": 204
    },
    "colab_type": "code",
    "id": "Y59i2obYf03y",
    "outputId": "b8772d7a-cf4d-4e2a-a59c-89a79a7858a5"
   },
   "outputs": [
    {
     "data": {
      "text/html": [
       "<div>\n",
       "<style scoped>\n",
       "    .dataframe tbody tr th:only-of-type {\n",
       "        vertical-align: middle;\n",
       "    }\n",
       "\n",
       "    .dataframe tbody tr th {\n",
       "        vertical-align: top;\n",
       "    }\n",
       "\n",
       "    .dataframe thead th {\n",
       "        text-align: right;\n",
       "    }\n",
       "</style>\n",
       "<table border=\"1\" class=\"dataframe\">\n",
       "  <thead>\n",
       "    <tr style=\"text-align: right;\">\n",
       "      <th></th>\n",
       "      <th>title</th>\n",
       "      <th>subtitle</th>\n",
       "      <th>author</th>\n",
       "      <th>date</th>\n",
       "      <th>section</th>\n",
       "      <th>text</th>\n",
       "      <th>url</th>\n",
       "    </tr>\n",
       "  </thead>\n",
       "  <tbody>\n",
       "    <tr>\n",
       "      <th>0</th>\n",
       "      <td>“A sociedade foi Rubens Paiva  não os facínora...</td>\n",
       "      <td>A decisão da juíza que proíbe as Forças Armada...</td>\n",
       "      <td>F. M.</td>\n",
       "      <td>30/03/2019 00:11:08</td>\n",
       "      <td>Brasil</td>\n",
       "      <td>A juíza federal Ivani Silva da Luz  de Brasíli...</td>\n",
       "      <td>https://brasil.elpais.com/brasil/2019/03/26/po...</td>\n",
       "    </tr>\n",
       "    <tr>\n",
       "      <th>1</th>\n",
       "      <td>Justiça suspende decisão que proibia Forças Ar...</td>\n",
       "      <td>Liminar havia sido concedida na sexta-feira a ...</td>\n",
       "      <td>Marina Rossi</td>\n",
       "      <td>30/03/2019 16:17:59</td>\n",
       "      <td>Brasil</td>\n",
       "      <td>Menos de 24 horas depois de a juíza federal Iv...</td>\n",
       "      <td>https://brasil.elpais.com/brasil/2019/03/30/po...</td>\n",
       "    </tr>\n",
       "    <tr>\n",
       "      <th>2</th>\n",
       "      <td>Governo Bolsonaro prega “negacionismo históric...</td>\n",
       "      <td>Marcos Napolitano  professor da USP  diz que o...</td>\n",
       "      <td>Regiane Oliveira</td>\n",
       "      <td>04/04/2019 22:37:48</td>\n",
       "      <td>Brasil</td>\n",
       "      <td>Quando  determinou que  de 31 de março 1964  u...</td>\n",
       "      <td>https://brasil.elpais.com/brasil/2019/04/05/po...</td>\n",
       "    </tr>\n",
       "    <tr>\n",
       "      <th>3</th>\n",
       "      <td>Quando os pais de Gabo perceberam que tinham u...</td>\n",
       "      <td>Gustavo Tatis percorre o universo de García Má...</td>\n",
       "      <td>Jesús Ruiz Mantilla</td>\n",
       "      <td>07/03/2019 16:38:56</td>\n",
       "      <td>Cultura</td>\n",
       "      <td>Quando  era pequeno   Luisa e  Gabriel se preo...</td>\n",
       "      <td>https://brasil.elpais.com/brasil/2019/03/06/cu...</td>\n",
       "    </tr>\n",
       "    <tr>\n",
       "      <th>4</th>\n",
       "      <td>Rádios canadenses banem músicas de Michael Jac...</td>\n",
       "      <td>Quebec Cogeco Media toma a decisão após queixa...</td>\n",
       "      <td>Jaime Porras Ferreyra</td>\n",
       "      <td>07/03/2019 16:12:37</td>\n",
       "      <td>Cultura</td>\n",
       "      <td>Desde a manhã da última segunda-feira     e   ...</td>\n",
       "      <td>https://brasil.elpais.com/brasil/2019/03/06/cu...</td>\n",
       "    </tr>\n",
       "  </tbody>\n",
       "</table>\n",
       "</div>"
      ],
      "text/plain": [
       "                                               title  \\\n",
       "0  “A sociedade foi Rubens Paiva  não os facínora...   \n",
       "1  Justiça suspende decisão que proibia Forças Ar...   \n",
       "2  Governo Bolsonaro prega “negacionismo históric...   \n",
       "3  Quando os pais de Gabo perceberam que tinham u...   \n",
       "4  Rádios canadenses banem músicas de Michael Jac...   \n",
       "\n",
       "                                            subtitle                 author  \\\n",
       "0  A decisão da juíza que proíbe as Forças Armada...                  F. M.   \n",
       "1  Liminar havia sido concedida na sexta-feira a ...           Marina Rossi   \n",
       "2  Marcos Napolitano  professor da USP  diz que o...       Regiane Oliveira   \n",
       "3  Gustavo Tatis percorre o universo de García Má...    Jesús Ruiz Mantilla   \n",
       "4  Quebec Cogeco Media toma a decisão após queixa...  Jaime Porras Ferreyra   \n",
       "\n",
       "                  date  section  \\\n",
       "0  30/03/2019 00:11:08   Brasil   \n",
       "1  30/03/2019 16:17:59   Brasil   \n",
       "2  04/04/2019 22:37:48   Brasil   \n",
       "3  07/03/2019 16:38:56  Cultura   \n",
       "4  07/03/2019 16:12:37  Cultura   \n",
       "\n",
       "                                                text  \\\n",
       "0  A juíza federal Ivani Silva da Luz  de Brasíli...   \n",
       "1  Menos de 24 horas depois de a juíza federal Iv...   \n",
       "2  Quando  determinou que  de 31 de março 1964  u...   \n",
       "3  Quando  era pequeno   Luisa e  Gabriel se preo...   \n",
       "4  Desde a manhã da última segunda-feira     e   ...   \n",
       "\n",
       "                                                 url  \n",
       "0  https://brasil.elpais.com/brasil/2019/03/26/po...  \n",
       "1  https://brasil.elpais.com/brasil/2019/03/30/po...  \n",
       "2  https://brasil.elpais.com/brasil/2019/04/05/po...  \n",
       "3  https://brasil.elpais.com/brasil/2019/03/06/cu...  \n",
       "4  https://brasil.elpais.com/brasil/2019/03/06/cu...  "
      ]
     },
     "execution_count": 2,
     "metadata": {},
     "output_type": "execute_result"
    }
   ],
   "source": [
    "# carregando os dados\n",
    "url = \"https://raw.githubusercontent.com/LiviaCavalcanti/RecInfo/master/lab02/results.csv\"\n",
    "original_data = pd.read_csv(url)\n",
    "N_TOTAL_DOCUMENTS = original_data.shape[0]\n",
    "original_data.head()"
   ]
  },
  {
   "cell_type": "code",
   "execution_count": 19,
   "metadata": {},
   "outputs": [],
   "source": [
    "from gensim.models import Word2Vec\n",
    "model = Word2Vec.load('pt.bin')"
   ]
  },
  {
   "cell_type": "code",
   "execution_count": 87,
   "metadata": {},
   "outputs": [],
   "source": [
    "def wmdistance(news1, news2):\n",
    "    n1 = news2embeddings(news1)\n",
    "    n2 = news2embeddings(news2)\n",
    "    \n",
    "    \n",
    "    vocab_len = len(set(n1.keys())) + len(set(n2.keys()))\n",
    "    docset1 = set(n1.keys())\n",
    "    docset2 = set(n2.keys())\n",
    "\n",
    "    # Compute distance matrix.\n",
    "    distance_matrix = np.zeros((vocab_len, vocab_len))\n",
    "    t1 = 0\n",
    "    for i in n1.keys():\n",
    "        t1+=1\n",
    "        t2=0\n",
    "        for j in n2.keys():\n",
    "            t2+=1\n",
    "            # Compute Euclidean distance between word vectors.\n",
    "            math.sqrt(np.sum((n1[i] - n2[j])**2))\n",
    "            distance_matrix[t1, t2] = math.sqrt(np.sum((n1[i] - n2[j])**2))\n",
    "    return distance_matrix"
   ]
  },
  {
   "cell_type": "code",
   "execution_count": 76,
   "metadata": {},
   "outputs": [
    {
     "data": {
      "text/plain": [
       "0.0"
      ]
     },
     "execution_count": 76,
     "metadata": {},
     "output_type": "execute_result"
    }
   ],
   "source": [
    "distance_matrix = np.zeros((2, 2))\n",
    "\n",
    "distance_matrix[0,1]"
   ]
  },
  {
   "cell_type": "code",
   "execution_count": 88,
   "metadata": {},
   "outputs": [
    {
     "name": "stdout",
     "output_type": "stream",
     "text": [
      "sociedade\n",
      "rubens\n",
      "paiva\n",
      "facínoras\n",
      "facínoras\n",
      "mataram\n",
      "sociedade\n",
      "rubens\n",
      "paiva\n",
      "facínoras\n",
      "facínoras\n",
      "mataram\n"
     ]
    },
    {
     "name": "stderr",
     "output_type": "stream",
     "text": [
      "/home/livia/Documentos/miniconda3/envs/ri/lib/python3.6/site-packages/ipykernel_launcher.py:13: DeprecationWarning: Call to deprecated `__getitem__` (Method will be removed in 4.0.0, use self.wv.__getitem__() instead).\n",
      "  del sys.path[0]\n"
     ]
    },
    {
     "data": {
      "text/plain": [
       "array([[ 0.        ,  0.        ,  0.        ,  0.        ,  0.        ,\n",
       "         0.        ,  0.        ,  0.        ],\n",
       "       [ 0.        ,  0.        , 28.81206573, 27.06368628, 28.83975037,\n",
       "         0.        ,  0.        ,  0.        ],\n",
       "       [ 0.        , 28.81206573,  0.        , 14.85481547, 20.81787773,\n",
       "         0.        ,  0.        ,  0.        ],\n",
       "       [ 0.        , 27.06368628, 14.85481547,  0.        , 19.27237897,\n",
       "         0.        ,  0.        ,  0.        ],\n",
       "       [ 0.        , 28.83975037, 20.81787773, 19.27237897,  0.        ,\n",
       "         0.        ,  0.        ,  0.        ],\n",
       "       [ 0.        ,  0.        ,  0.        ,  0.        ,  0.        ,\n",
       "         0.        ,  0.        ,  0.        ],\n",
       "       [ 0.        ,  0.        ,  0.        ,  0.        ,  0.        ,\n",
       "         0.        ,  0.        ,  0.        ],\n",
       "       [ 0.        ,  0.        ,  0.        ,  0.        ,  0.        ,\n",
       "         0.        ,  0.        ,  0.        ]])"
      ]
     },
     "execution_count": 88,
     "metadata": {},
     "output_type": "execute_result"
    }
   ],
   "source": [
    "wmdistance(0,1)"
   ]
  },
  {
   "cell_type": "code",
   "execution_count": 89,
   "metadata": {},
   "outputs": [],
   "source": [
    "def similarity(news_id):\n",
    "    for i in original_data.index:\n",
    "        wmdistance(news_id, i)\n",
    "    "
   ]
  },
  {
   "cell_type": "code",
   "execution_count": 92,
   "metadata": {},
   "outputs": [
    {
     "name": "stderr",
     "output_type": "stream",
     "text": [
      "/home/livia/Documentos/miniconda3/envs/ri/lib/python3.6/site-packages/ipykernel_launcher.py:12: DeprecationWarning: Call to deprecated `__getitem__` (Method will be removed in 4.0.0, use self.wv.__getitem__() instead).\n",
      "  if sys.path[0] == '':\n"
     ]
    }
   ],
   "source": [
    "similarity(0)"
   ]
  },
  {
   "cell_type": "code",
   "execution_count": 91,
   "metadata": {},
   "outputs": [],
   "source": [
    "def news2embeddings(news_id, size=10):\n",
    "    words = re.split(r'\\W+', original_data.loc[0].title)\n",
    "    \n",
    "    embed_words = {}\n",
    "    count2limit = 0\n",
    "    for word in words:\n",
    "        \n",
    "        w = word.lower()\n",
    "        \n",
    "        if w not in stopwords_complement:\n",
    "            try:\n",
    "                embed_words[w] = model[w]\n",
    "                count2limit += 1\n",
    "            except:\n",
    "                continue\n",
    "        if count2limit == size:\n",
    "            return embed_words\n",
    "                \n",
    "        \n",
    "    return embed_words"
   ]
  },
  {
   "cell_type": "code",
   "execution_count": 3,
   "metadata": {
    "colab": {
     "base_uri": "https://localhost:8080/",
     "height": 238
    },
    "colab_type": "code",
    "id": "W794qAc5ieZD",
    "outputId": "88b4b17c-7dec-4df5-ff11-eb580f12b6e9"
   },
   "outputs": [
    {
     "data": {
      "text/plain": [
       "['',\n",
       " 'A',\n",
       " 'sociedade',\n",
       " 'foi',\n",
       " 'Rubens',\n",
       " 'Paiva',\n",
       " 'não',\n",
       " 'os',\n",
       " 'facínoras',\n",
       " 'que',\n",
       " 'o',\n",
       " 'mataram',\n",
       " '']"
      ]
     },
     "execution_count": 3,
     "metadata": {},
     "output_type": "execute_result"
    }
   ],
   "source": [
    "# gerando tokens\n",
    "array_df_token = []\n",
    "original_data.title.apply(lambda news: array_df_token.append( re.split(r'\\W+', news)))\n",
    "array_df_token[0]"
   ]
  },
  {
   "cell_type": "code",
   "execution_count": 4,
   "metadata": {
    "colab": {
     "base_uri": "https://localhost:8080/",
     "height": 51
    },
    "colab_type": "code",
    "id": "ZCaF0ehff5ST",
    "outputId": "356e8e34-5537-4789-b01e-4ec7a204f5ed"
   },
   "outputs": [
    {
     "name": "stderr",
     "output_type": "stream",
     "text": [
      "[nltk_data] Downloading package stopwords to /home/livia/nltk_data...\n",
      "[nltk_data]   Package stopwords is already up-to-date!\n"
     ]
    }
   ],
   "source": [
    "\n",
    "# para o first time run\n",
    "nltk.download('stopwords')\n",
    "\n",
    "# removendo stopwords\n",
    "default_stopwords = set(stopwords.words('portuguese'))\n",
    "stopwords_complement = [\"\", \"neste\",\"és\", \"é\", \"somos\", \"sois\", \"são\", \"era\", \"eras\", \"éreis\", \"foste\", \"fostes\", \"foras\",\t\"fôreis\",\t\"serás\", \"sereis\", \"serão\",\t\"serias\", \"seríeis\", \"sejas\", \"sejais\", \"fosses\", \"fôsseis\", \"fores\", \"fordes\", \"sê\", \"sejas\", \"sejais\", \"ser\", \"seres\", \"sermos\",\t\"serdes\",\t\"serem\", \"sobre\", \"é\"]\n",
    "\n",
    "stopwords_complement.extend(default_stopwords)\n",
    "\n"
   ]
  },
  {
   "cell_type": "code",
   "execution_count": 5,
   "metadata": {
    "colab": {},
    "colab_type": "code",
    "id": "27Zw5qeeli26"
   },
   "outputs": [],
   "source": [
    "stopwords_complement.extend(default_stopwords)\n"
   ]
  },
  {
   "cell_type": "code",
   "execution_count": 6,
   "metadata": {
    "colab": {},
    "colab_type": "code",
    "id": "OMqpgF7jhp5n"
   },
   "outputs": [],
   "source": [
    "no_stopwords_news = []\n",
    "for word_array in array_df_token:\n",
    "    no_stopwords_news.append(list(filter(lambda x : x.lower() not in stopwords_complement, word_array)))"
   ]
  },
  {
   "cell_type": "code",
   "execution_count": 7,
   "metadata": {
    "colab": {},
    "colab_type": "code",
    "id": "WjnUDV1Ei-9j"
   },
   "outputs": [],
   "source": [
    "filtered_news = []\n",
    "\n",
    "for e in no_stopwords_news:\n",
    "    aux_word = []\n",
    "    for word in e:\n",
    "        aux_word.append(word.lower())\n",
    "    filtered_news.append(aux_word[:10])"
   ]
  },
  {
   "cell_type": "code",
   "execution_count": 8,
   "metadata": {
    "colab": {
     "base_uri": "https://localhost:8080/",
     "height": 1000
    },
    "colab_type": "code",
    "id": "EdsPmYO_kiVt",
    "outputId": "c857a75a-1ab4-4e3c-f5ac-e924683cf8a9"
   },
   "outputs": [
    {
     "data": {
      "text/plain": [
       "[['sociedade', 'rubens', 'paiva', 'facínoras', 'mataram'],\n",
       " ['justiça',\n",
       "  'suspende',\n",
       "  'decisão',\n",
       "  'proibia',\n",
       "  'forças',\n",
       "  'armadas',\n",
       "  'celebrarem',\n",
       "  'golpe',\n",
       "  '1964'],\n",
       " ['governo', 'bolsonaro', 'prega', 'negacionismo', 'histórico', 'ditadura'],\n",
       " ['pais', 'gabo', 'perceberam', 'filho', 'mentiroso'],\n",
       " ['rádios',\n",
       "  'canadenses',\n",
       "  'banem',\n",
       "  'músicas',\n",
       "  'michael',\n",
       "  'jackson',\n",
       "  'programação']]"
      ]
     },
     "execution_count": 8,
     "metadata": {},
     "output_type": "execute_result"
    }
   ],
   "source": [
    "filtered_news[0:5]\n"
   ]
  },
  {
   "cell_type": "code",
   "execution_count": null,
   "metadata": {},
   "outputs": [],
   "source": []
  },
  {
   "cell_type": "code",
   "execution_count": 20,
   "metadata": {},
   "outputs": [
    {
     "name": "stderr",
     "output_type": "stream",
     "text": [
      "/home/livia/Documentos/miniconda3/envs/ri/lib/python3.6/site-packages/ipykernel_launcher.py:1: DeprecationWarning: Call to deprecated `__getitem__` (Method will be removed in 4.0.0, use self.wv.__getitem__() instead).\n",
      "  \"\"\"Entry point for launching an IPython kernel.\n"
     ]
    },
    {
     "data": {
      "text/plain": [
       "array([-6.5462875e-01, -2.2935629e+00, -1.4184085e+00,  1.8673456e+00,\n",
       "       -2.7797916e+00, -1.0738591e+00, -1.7973077e-01, -1.1639605e+00,\n",
       "        1.0856268e+00,  1.8858245e-01, -2.2553296e-01,  2.3803563e+00,\n",
       "       -4.5980744e-02,  7.3853351e-02, -1.0235522e+00, -5.9012938e-01,\n",
       "        1.8113707e+00, -6.4247268e-01,  4.2772263e-01,  8.7607521e-01,\n",
       "       -7.4397832e-01, -2.1257985e+00, -1.9487043e-01,  9.9959485e-02,\n",
       "       -1.3591160e+00, -8.4675229e-01, -1.2846813e+00, -1.8125669e+00,\n",
       "       -2.8817327e+00,  3.1197064e+00, -4.6457262e+00,  2.4174795e-01,\n",
       "       -2.9926053e-01,  1.9427787e+00,  1.2972488e-01, -4.6086481e-01,\n",
       "        1.1106607e+00, -1.1886199e-01, -1.1663800e+00,  6.9122076e-01,\n",
       "       -8.4158637e-02,  2.0012600e+00, -4.0435207e-01,  1.2587290e+00,\n",
       "       -6.0827559e-01, -7.0740506e-02,  7.0606381e-01,  2.7059095e+00,\n",
       "        8.8259661e-01, -7.7127415e-01, -2.4471928e-01, -1.0108689e+00,\n",
       "       -1.3424310e-01, -6.6520691e-01, -2.3377411e+00, -1.1457791e+00,\n",
       "       -2.2288954e+00, -3.1891486e-01,  1.3789769e+00, -4.6740744e-01,\n",
       "        2.7890551e+00, -5.4604673e-01, -2.3418796e+00,  9.4417346e-01,\n",
       "       -1.1580709e+00,  2.4784329e+00, -5.9001249e-01,  2.1138723e+00,\n",
       "        2.4122193e+00, -4.0015507e-01,  7.5295085e-01,  1.9807417e+00,\n",
       "       -7.7370685e-01,  1.6821761e-01,  2.8631375e+00,  1.6101259e+00,\n",
       "        5.3650075e-01,  8.3050764e-01, -2.8612471e+00, -3.5170603e-01,\n",
       "        1.9225688e+00, -7.6738274e-01,  6.1835676e-01, -1.3018452e+00,\n",
       "        1.2913537e+00, -7.0224589e-01, -2.2596900e+00,  3.5809939e+00,\n",
       "        2.9449576e-01,  1.9037250e+00, -7.0407408e-01,  9.4498163e-01,\n",
       "       -1.3255799e+00,  6.7648572e-01, -1.2604420e+00,  9.2983204e-01,\n",
       "       -2.3873169e+00,  2.8927627e+00,  1.2771786e+00,  1.7877753e+00,\n",
       "        2.3846037e+00, -9.6479630e-01,  1.8502042e+00,  1.5860301e+00,\n",
       "       -7.4295598e-01, -1.2387214e+00, -2.4756341e+00, -2.3030083e+00,\n",
       "        3.9285144e-01,  1.8113381e+00,  4.2357302e-01,  2.1217053e+00,\n",
       "        3.0324721e-01, -1.2336571e-01, -2.7281306e+00,  5.5222648e-01,\n",
       "       -1.7692372e+00, -2.8430443e+00, -6.6686946e-01, -1.1640776e+00,\n",
       "        9.9123806e-01, -1.3018563e-01, -1.2322807e+00,  1.2966208e+00,\n",
       "       -2.5591288e+00, -1.5151936e+00,  1.4603322e+00,  2.2113218e+00,\n",
       "        1.4945341e-03, -4.0954411e-01,  6.5230328e-01, -1.4115821e-02,\n",
       "       -1.0811113e-01,  8.0193907e-01,  5.7711786e-01, -1.6706973e-01,\n",
       "       -1.9051479e+00,  1.2241116e+00, -2.4897458e-01,  5.6548125e-01,\n",
       "        4.9175909e-01, -5.7790303e-01, -1.3952370e+00, -3.5599300e-01,\n",
       "        1.3869501e+00,  2.1515874e-02,  1.4261101e-02, -1.9207604e+00,\n",
       "        1.2063818e+00, -1.2849756e-01, -1.3064398e+00,  7.1041387e-01,\n",
       "        2.0888159e+00,  1.4780612e+00, -1.1831247e+00,  2.0333836e+00,\n",
       "       -1.2697294e+00, -1.9022075e-02,  3.1289611e+00, -1.1613312e+00,\n",
       "        1.6671591e+00, -6.3811392e-01, -2.7328637e+00, -2.6886783e+00,\n",
       "       -1.9328172e+00,  1.6588275e+00,  1.3739824e+00, -1.5451570e+00,\n",
       "        1.2123718e+00, -9.6263784e-01,  2.2846507e-01, -1.0353057e+00,\n",
       "        1.7227519e+00,  1.6032339e+00, -2.6213154e-01, -3.6435366e+00,\n",
       "       -1.0532143e+00,  1.5869720e+00,  9.3646848e-01, -9.1577321e-01,\n",
       "       -2.8225890e-01, -9.4621646e-01, -3.8489088e-02, -2.7524834e+00,\n",
       "       -1.2289863e+00, -1.1633519e+00,  4.5633548e-01,  1.1467360e+00,\n",
       "        2.7430914e-02, -1.6833833e+00,  1.5355586e-03, -1.5676964e-02,\n",
       "        2.0411727e+00,  5.4523808e-01,  1.3673292e+00,  3.1438109e-01,\n",
       "       -1.6109107e+00,  2.3976877e+00,  1.4609698e+00,  3.0804353e-02,\n",
       "       -1.4113060e-01,  1.4860902e+00,  2.1084392e-01, -2.1117671e+00,\n",
       "        3.9118803e-01, -1.6790199e+00, -1.5423890e+00, -5.9402877e-01,\n",
       "        2.5468177e-01, -1.4258566e+00, -8.9026028e-01, -3.0594032e+00,\n",
       "       -3.6291513e-01,  1.3496913e+00, -8.1329626e-01,  1.3417515e+00,\n",
       "        4.8808154e-01, -1.1567265e+00, -7.8844976e-01,  6.9973284e-01,\n",
       "       -2.8975923e-02,  3.7496719e+00, -9.9935585e-01, -9.9549145e-01,\n",
       "        2.3561594e+00,  9.9104035e-01,  1.5586011e+00, -8.9322948e-01,\n",
       "        1.2407770e-02, -2.2555630e+00, -5.1880652e-01,  2.5402560e+00,\n",
       "        2.2420584e-01,  1.1719422e+00, -2.4693625e+00,  1.2273455e+00,\n",
       "       -3.6592500e-03,  7.1216387e-01, -1.6622338e+00, -1.4554598e+00,\n",
       "       -1.2552178e+00, -4.8982185e-01, -5.3826511e-01, -2.1056287e-01,\n",
       "        7.0611501e-01, -2.8150666e-01, -1.6689827e+00, -2.9008240e-02,\n",
       "        1.5732101e+00, -1.1760919e+00, -3.4733087e-01,  8.7865698e-01,\n",
       "       -1.0230798e+00,  3.3198419e-01, -2.7292290e+00,  5.0079774e-02,\n",
       "       -4.8983878e-01,  2.7244897e+00, -1.3190509e+00,  7.7344376e-01,\n",
       "       -4.0597517e-02,  1.4958249e+00,  2.1480138e+00, -1.4836855e+00,\n",
       "       -1.3724694e+00,  3.8379722e+00, -1.2816899e+00,  1.3397591e-01,\n",
       "       -3.0914226e-01, -3.1131203e+00,  1.4054395e+00,  3.7263904e+00,\n",
       "       -5.3813857e-01, -4.3384677e-01,  6.1712283e-01,  1.0176859e+00,\n",
       "        2.2643490e+00, -1.9898400e-01,  3.3968074e+00, -1.4394595e-01,\n",
       "       -3.7573438e-02,  2.0662770e-01,  2.9747456e-01, -2.9940536e+00,\n",
       "        5.3591651e-01, -9.3562657e-01, -3.7827653e-01,  5.1488680e-01,\n",
       "        3.3528042e+00,  6.8458837e-01, -4.2391691e-01,  1.2899120e+00,\n",
       "        8.3428031e-01, -1.3400669e+00,  1.3306000e+00,  1.8492864e+00,\n",
       "       -2.4462681e+00,  1.3071351e+00, -5.5154834e-02, -3.8136065e-01],\n",
       "      dtype=float32)"
      ]
     },
     "execution_count": 20,
     "metadata": {},
     "output_type": "execute_result"
    }
   ],
   "source": [
    "model[\"lei\"]"
   ]
  },
  {
   "cell_type": "code",
   "execution_count": null,
   "metadata": {},
   "outputs": [],
   "source": [
    "model.similarity(\"similar\", \"semelhante\")"
   ]
  }
 ],
 "metadata": {
  "colab": {
   "name": "word2vec.ipynb",
   "provenance": [],
   "version": "0.3.2"
  },
  "kernelspec": {
   "display_name": "Python 3",
   "language": "python",
   "name": "python3"
  },
  "language_info": {
   "codemirror_mode": {
    "name": "ipython",
    "version": 3
   },
   "file_extension": ".py",
   "mimetype": "text/x-python",
   "name": "python",
   "nbconvert_exporter": "python",
   "pygments_lexer": "ipython3",
   "version": "3.6.8"
  }
 },
 "nbformat": 4,
 "nbformat_minor": 1
}
