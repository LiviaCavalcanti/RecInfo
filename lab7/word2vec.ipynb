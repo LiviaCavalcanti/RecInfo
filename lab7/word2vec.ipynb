{
 "cells": [
  {
   "cell_type": "code",
   "execution_count": 1,
   "metadata": {
    "colab": {},
    "colab_type": "code",
    "id": "ZDMFHYZYQ-DE"
   },
   "outputs": [],
   "source": [
    "import pandas as pd\n",
    "import re\n",
    "import nltk\n",
    "import numpy as np\n",
    "from nltk.tokenize import RegexpTokenizer\n",
    "from nltk.corpus import stopwords\n",
    "from nltk import stem\n",
    "import math\n",
    "import operator\n",
    "from gensim.models import Word2Vec\n",
    "import collections\n",
    "from pyemd import emd\n",
    "import operator"
   ]
  },
  {
   "cell_type": "markdown",
   "metadata": {},
   "source": [
    "Assim como anteriormente, o tratamento utilizado foi a filtragem de palavras, a fim de eliminar caracteres estranhos. Além disso foram removidas as stopwords e todas as palavras possuem apenas letras minúsculas, por compatibilidade à biblioteca. "
   ]
  },
  {
   "cell_type": "code",
   "execution_count": 2,
   "metadata": {
    "colab": {
     "base_uri": "https://localhost:8080/",
     "height": 204
    },
    "colab_type": "code",
    "id": "Y59i2obYf03y",
    "outputId": "b8772d7a-cf4d-4e2a-a59c-89a79a7858a5"
   },
   "outputs": [
    {
     "name": "stderr",
     "output_type": "stream",
     "text": [
      "/home/livia/Documentos/miniconda3/lib/python3.7/site-packages/smart_open/smart_open_lib.py:398: UserWarning: This function is deprecated, use smart_open.open instead. See the migration notes for details: https://github.com/RaRe-Technologies/smart_open/blob/master/README.rst#migrating-to-the-new-open-function\n",
      "  'See the migration notes for details: %s' % _MIGRATION_NOTES_URL\n",
      "/home/livia/Documentos/miniconda3/lib/python3.7/site-packages/smart_open/smart_open_lib.py:398: UserWarning: This function is deprecated, use smart_open.open instead. See the migration notes for details: https://github.com/RaRe-Technologies/smart_open/blob/master/README.rst#migrating-to-the-new-open-function\n",
      "  'See the migration notes for details: %s' % _MIGRATION_NOTES_URL\n"
     ]
    },
    {
     "data": {
      "text/html": [
       "<div>\n",
       "<style scoped>\n",
       "    .dataframe tbody tr th:only-of-type {\n",
       "        vertical-align: middle;\n",
       "    }\n",
       "\n",
       "    .dataframe tbody tr th {\n",
       "        vertical-align: top;\n",
       "    }\n",
       "\n",
       "    .dataframe thead th {\n",
       "        text-align: right;\n",
       "    }\n",
       "</style>\n",
       "<table border=\"1\" class=\"dataframe\">\n",
       "  <thead>\n",
       "    <tr style=\"text-align: right;\">\n",
       "      <th></th>\n",
       "      <th>title</th>\n",
       "      <th>subtitle</th>\n",
       "      <th>author</th>\n",
       "      <th>date</th>\n",
       "      <th>section</th>\n",
       "      <th>text</th>\n",
       "      <th>url</th>\n",
       "    </tr>\n",
       "  </thead>\n",
       "  <tbody>\n",
       "    <tr>\n",
       "      <th>0</th>\n",
       "      <td>“A sociedade foi Rubens Paiva  não os facínora...</td>\n",
       "      <td>A decisão da juíza que proíbe as Forças Armada...</td>\n",
       "      <td>F. M.</td>\n",
       "      <td>30/03/2019 00:11:08</td>\n",
       "      <td>Brasil</td>\n",
       "      <td>A juíza federal Ivani Silva da Luz  de Brasíli...</td>\n",
       "      <td>https://brasil.elpais.com/brasil/2019/03/26/po...</td>\n",
       "    </tr>\n",
       "    <tr>\n",
       "      <th>1</th>\n",
       "      <td>Justiça suspende decisão que proibia Forças Ar...</td>\n",
       "      <td>Liminar havia sido concedida na sexta-feira a ...</td>\n",
       "      <td>Marina Rossi</td>\n",
       "      <td>30/03/2019 16:17:59</td>\n",
       "      <td>Brasil</td>\n",
       "      <td>Menos de 24 horas depois de a juíza federal Iv...</td>\n",
       "      <td>https://brasil.elpais.com/brasil/2019/03/30/po...</td>\n",
       "    </tr>\n",
       "    <tr>\n",
       "      <th>2</th>\n",
       "      <td>Governo Bolsonaro prega “negacionismo históric...</td>\n",
       "      <td>Marcos Napolitano  professor da USP  diz que o...</td>\n",
       "      <td>Regiane Oliveira</td>\n",
       "      <td>04/04/2019 22:37:48</td>\n",
       "      <td>Brasil</td>\n",
       "      <td>Quando  determinou que  de 31 de março 1964  u...</td>\n",
       "      <td>https://brasil.elpais.com/brasil/2019/04/05/po...</td>\n",
       "    </tr>\n",
       "    <tr>\n",
       "      <th>3</th>\n",
       "      <td>Quando os pais de Gabo perceberam que tinham u...</td>\n",
       "      <td>Gustavo Tatis percorre o universo de García Má...</td>\n",
       "      <td>Jesús Ruiz Mantilla</td>\n",
       "      <td>07/03/2019 16:38:56</td>\n",
       "      <td>Cultura</td>\n",
       "      <td>Quando  era pequeno   Luisa e  Gabriel se preo...</td>\n",
       "      <td>https://brasil.elpais.com/brasil/2019/03/06/cu...</td>\n",
       "    </tr>\n",
       "    <tr>\n",
       "      <th>4</th>\n",
       "      <td>Rádios canadenses banem músicas de Michael Jac...</td>\n",
       "      <td>Quebec Cogeco Media toma a decisão após queixa...</td>\n",
       "      <td>Jaime Porras Ferreyra</td>\n",
       "      <td>07/03/2019 16:12:37</td>\n",
       "      <td>Cultura</td>\n",
       "      <td>Desde a manhã da última segunda-feira     e   ...</td>\n",
       "      <td>https://brasil.elpais.com/brasil/2019/03/06/cu...</td>\n",
       "    </tr>\n",
       "  </tbody>\n",
       "</table>\n",
       "</div>"
      ],
      "text/plain": [
       "                                               title  \\\n",
       "0  “A sociedade foi Rubens Paiva  não os facínora...   \n",
       "1  Justiça suspende decisão que proibia Forças Ar...   \n",
       "2  Governo Bolsonaro prega “negacionismo históric...   \n",
       "3  Quando os pais de Gabo perceberam que tinham u...   \n",
       "4  Rádios canadenses banem músicas de Michael Jac...   \n",
       "\n",
       "                                            subtitle                 author  \\\n",
       "0  A decisão da juíza que proíbe as Forças Armada...                  F. M.   \n",
       "1  Liminar havia sido concedida na sexta-feira a ...           Marina Rossi   \n",
       "2  Marcos Napolitano  professor da USP  diz que o...       Regiane Oliveira   \n",
       "3  Gustavo Tatis percorre o universo de García Má...    Jesús Ruiz Mantilla   \n",
       "4  Quebec Cogeco Media toma a decisão após queixa...  Jaime Porras Ferreyra   \n",
       "\n",
       "                  date  section  \\\n",
       "0  30/03/2019 00:11:08   Brasil   \n",
       "1  30/03/2019 16:17:59   Brasil   \n",
       "2  04/04/2019 22:37:48   Brasil   \n",
       "3  07/03/2019 16:38:56  Cultura   \n",
       "4  07/03/2019 16:12:37  Cultura   \n",
       "\n",
       "                                                text  \\\n",
       "0  A juíza federal Ivani Silva da Luz  de Brasíli...   \n",
       "1  Menos de 24 horas depois de a juíza federal Iv...   \n",
       "2  Quando  determinou que  de 31 de março 1964  u...   \n",
       "3  Quando  era pequeno   Luisa e  Gabriel se preo...   \n",
       "4  Desde a manhã da última segunda-feira     e   ...   \n",
       "\n",
       "                                                 url  \n",
       "0  https://brasil.elpais.com/brasil/2019/03/26/po...  \n",
       "1  https://brasil.elpais.com/brasil/2019/03/30/po...  \n",
       "2  https://brasil.elpais.com/brasil/2019/04/05/po...  \n",
       "3  https://brasil.elpais.com/brasil/2019/03/06/cu...  \n",
       "4  https://brasil.elpais.com/brasil/2019/03/06/cu...  "
      ]
     },
     "execution_count": 2,
     "metadata": {},
     "output_type": "execute_result"
    }
   ],
   "source": [
    "# carregando o modelo\n",
    "model = Word2Vec.load('pt.bin')\n",
    "\n",
    "# carregando os dados\n",
    "url = \"https://raw.githubusercontent.com/LiviaCavalcanti/RecInfo/master/lab02/results.csv\"\n",
    "original_data = pd.read_csv(url)\n",
    "N_TOTAL_DOCUMENTS = original_data.shape[0]\n",
    "original_data.head()"
   ]
  },
  {
   "cell_type": "code",
   "execution_count": 3,
   "metadata": {
    "colab": {
     "base_uri": "https://localhost:8080/",
     "height": 51
    },
    "colab_type": "code",
    "id": "ZCaF0ehff5ST",
    "outputId": "356e8e34-5537-4789-b01e-4ec7a204f5ed"
   },
   "outputs": [
    {
     "name": "stderr",
     "output_type": "stream",
     "text": [
      "[nltk_data] Downloading package stopwords to /home/livia/nltk_data...\n",
      "[nltk_data]   Package stopwords is already up-to-date!\n"
     ]
    }
   ],
   "source": [
    "\n",
    "# para o first time run\n",
    "nltk.download('stopwords')\n",
    "\n",
    "# removendo stopwords\n",
    "default_stopwords = set(stopwords.words('portuguese'))\n",
    "stopwords_complement = [\"\", \"neste\",\"és\", \"é\", \"somos\", \"sois\", \"são\", \"era\", \"eras\", \"éreis\", \"foste\", \"fostes\", \"foras\",\t\"fôreis\",\t\"serás\", \"sereis\", \"serão\",\t\"serias\", \"seríeis\", \"sejas\", \"sejais\", \"fosses\", \"fôsseis\", \"fores\", \"fordes\", \"sê\", \"sejas\", \"sejais\", \"ser\", \"seres\", \"sermos\",\t\"serdes\",\t\"serem\", \"sobre\", \"é\"]\n",
    "\n",
    "stopwords_complement.extend(default_stopwords)\n",
    "stopwords_complement.extend(default_stopwords)\n",
    "\n"
   ]
  },
  {
   "cell_type": "markdown",
   "metadata": {},
   "source": [
    "**Implemente uma função que recebe uma notícia e retorna os vetores (word embeddings) das palavras do título dessa notícia a partir dos word embeddings pré-treinados com o gensim (30 pts).**"
   ]
  },
  {
   "cell_type": "markdown",
   "metadata": {},
   "source": [
    "A tarefa foi dividida em duas funções: uma para a seleção e o tratamento das notícias e outra para retornar o array tratado bem como uma dicionário com os *word embeddings* correspondendes."
   ]
  },
  {
   "cell_type": "code",
   "execution_count": 4,
   "metadata": {},
   "outputs": [],
   "source": [
    "def news2array(news_id):\n",
    "    words = re.split(r'\\W+', original_data.loc[news_id].title)\n",
    "    no_stopwords_news = []\n",
    "    for word in words:\n",
    "        if word.lower() not in stopwords_complement:\n",
    "            no_stopwords_news.append(word.lower())\n",
    "    return no_stopwords_news"
   ]
  },
  {
   "cell_type": "code",
   "execution_count": 5,
   "metadata": {},
   "outputs": [],
   "source": [
    "def news2embeddings(news_id):\n",
    "    words = news2array(news_id)\n",
    "    \n",
    "    embed_words = {}\n",
    "    for word in words:\n",
    "                \n",
    "        try:\n",
    "            embed_words[w] = model[w]\n",
    "        except:\n",
    "            continue      \n",
    "        \n",
    "    return words, embed_words"
   ]
  },
  {
   "cell_type": "markdown",
   "metadata": {},
   "source": [
    "**Implemente uma função que calcula o WMD (Word Mover's Distance) entre duas notícias usando os embeddings das palavras dos respectivos títulos  (35 pts).**"
   ]
  },
  {
   "cell_type": "markdown",
   "metadata": {},
   "source": [
    "Reutilizando o código anterior, no tocante ao tratamento do id da notícia para a obtenção do array de palavras a serem consideradas para o cálculo da distância, junto à função oferecida pelo gensim."
   ]
  },
  {
   "cell_type": "code",
   "execution_count": 6,
   "metadata": {},
   "outputs": [],
   "source": [
    "def wmdistance(news1, news2):\n",
    "    n1, n1_embed = news2embeddings(news1)\n",
    "    n2, n2_embed = news2embeddings(news2)\n",
    "    \n",
    "    return model.wmdistance(n1, n2)"
   ]
  },
  {
   "cell_type": "markdown",
   "metadata": {},
   "source": [
    "**Implemente uma função que possa receber qualquer notícia como entrada e retornar as top-3 notícias mais similares (menos distantes) a ela (35 pts).**"
   ]
  },
  {
   "cell_type": "markdown",
   "metadata": {},
   "source": [
    "Por fim, as funções anteriores foram usadas para gerar um ranking de distâncias entre os títulos das notícias passando como entrada seus respectivos ids. Como resultado, é possível ver quais notícias são mais similares a uma nóticia alvo."
   ]
  },
  {
   "cell_type": "code",
   "execution_count": 7,
   "metadata": {},
   "outputs": [],
   "source": [
    "def similarity(news_id):\n",
    "    score = {}\n",
    "    for i in original_data.index:\n",
    "        score[i] = wmdistance(news_id, i)\n",
    "    \n",
    "    sorted_news = sorted(score.items(), key=operator.itemgetter(1))\n",
    "    return [(i, original_data.loc[i].title, original_data.loc[i].subtitle, \"{0:.2f}\".format(j)) for i, j in sorted_news[1:4]]"
   ]
  },
  {
   "cell_type": "markdown",
   "metadata": {},
   "source": [
    "Como teste, podemos ver que para uma notícia de futebol europeu com foco em times italianos e em Cristiano Ronaldo, tem como notícias similares outras que falam sobre o jogador e outros jogos do campeonato mais importante do continente em questão, a Champions."
   ]
  },
  {
   "cell_type": "code",
   "execution_count": 8,
   "metadata": {},
   "outputs": [
    {
     "data": {
      "text/plain": [
       "('Turim se apaixona por Cristiano Ronaldo',\n",
       " 'Juventus o blindou diante do caso de suposto estupro  e ele oferece ao time sua melhor versão.')"
      ]
     },
     "execution_count": 8,
     "metadata": {},
     "output_type": "execute_result"
    }
   ],
   "source": [
    "original_data.loc[40].title, original_data.loc[40].subtitle"
   ]
  },
  {
   "cell_type": "code",
   "execution_count": 9,
   "metadata": {},
   "outputs": [
    {
     "name": "stderr",
     "output_type": "stream",
     "text": [
      "/home/livia/Documentos/miniconda3/lib/python3.7/site-packages/ipykernel_launcher.py:5: DeprecationWarning: Call to deprecated `wmdistance` (Method will be removed in 4.0.0, use self.wv.wmdistance() instead).\n",
      "  \"\"\"\n"
     ]
    },
    {
     "data": {
      "text/plain": [
       "[(242,\n",
       "  'A fortuna blindada de Cristiano Ronaldo',\n",
       "  'Atacante criou um império empresarial em cuja direção colocou sua família e um círculo muito íntimo de amigos',\n",
       "  '11.75'),\n",
       " (52,\n",
       "  'Comandado por Messi  Barcelona goleia o Lyon e se classifica na Champions',\n",
       "  'Argentino faz dois gols e dá duas assistências em goleada por 5 a 1 no Camp Nou. Coutinho  Piqué e Dembele também marcaram',\n",
       "  '18.68'),\n",
       " (50,\n",
       "  'Cristiano Ronaldo faz três no Atlético de Madrid e conduz Juventus às quartas da Champions',\n",
       "  'Italianos haviam perdido por 2 a 0 na Espanha  mas reverteram o placar em Turim com uma atuação épica do português',\n",
       "  '18.74')]"
      ]
     },
     "execution_count": 9,
     "metadata": {},
     "output_type": "execute_result"
    }
   ],
   "source": [
    "similarity(40)"
   ]
  },
  {
   "cell_type": "markdown",
   "metadata": {},
   "source": [
    "Para uma notícia mais específica, com tema menos comum, sobre problemas Michael Jackson, retorna notícias sobre o artista e sobre outro cantor estadunidense famoso, Eric Clapton. Mas retorna também outra notícia menos correlata evolvemendo jogador brasileiro no país vizinho da Bolívia."
   ]
  },
  {
   "cell_type": "code",
   "execution_count": 10,
   "metadata": {},
   "outputs": [
    {
     "data": {
      "text/plain": [
       "('Rádios canadenses banem músicas de Michael Jackson da programação',\n",
       " 'Quebec Cogeco Media toma a decisão após queixas de ouvintes indignados com documentário sobre supostos abusos sexuais cometidos pelo cantor')"
      ]
     },
     "execution_count": 10,
     "metadata": {},
     "output_type": "execute_result"
    }
   ],
   "source": [
    "original_data.loc[4].title, original_data.loc[4].subtitle"
   ]
  },
  {
   "cell_type": "code",
   "execution_count": 11,
   "metadata": {},
   "outputs": [
    {
     "name": "stderr",
     "output_type": "stream",
     "text": [
      "/home/livia/Documentos/miniconda3/lib/python3.7/site-packages/ipykernel_launcher.py:5: DeprecationWarning: Call to deprecated `wmdistance` (Method will be removed in 4.0.0, use self.wv.wmdistance() instead).\n",
      "  \"\"\"\n"
     ]
    },
    {
     "data": {
      "text/plain": [
       "[(179,\n",
       "  '“Nunca vou entender por que deixaram Michael Jackson dormir com crianças”',\n",
       "  'Diretor de ‘Deixando Neverland’ explica como lida com a reação furiosa que seu documentário tem provocado pelo mundo',\n",
       "  '21.16'),\n",
       " (194,\n",
       "  '‘Tears in Heaven’: a tragédia que inspirou uma das canções mais comoventes da história',\n",
       "  'Março é uma época amarga para Eric Clapton. No final desse mês  em 1991  o músico perdeu seu filho de quatro anos num acidente no quarto de um hotel. Pouco tempo depois  dedicou-lhe uma dolorosa melodia. Esta é a história.',\n",
       "  '21.68'),\n",
       " (91,\n",
       "  'O brasileiro insensato que rebate racismo com xenofobia',\n",
       "  'Jogador Serginho foi vítima de ofensas racistas e abandonou o campo na Bolívia. Por aqui  alguns torcedores preferem ofender o país vizinho a refletir sobre seus próprios preconceitos',\n",
       "  '22.99')]"
      ]
     },
     "execution_count": 11,
     "metadata": {},
     "output_type": "execute_result"
    }
   ],
   "source": [
    "similarity(4)"
   ]
  }
 ],
 "metadata": {
  "colab": {
   "name": "word2vec.ipynb",
   "provenance": [],
   "version": "0.3.2"
  },
  "kernelspec": {
   "display_name": "Python 3",
   "language": "python",
   "name": "python3"
  },
  "language_info": {
   "codemirror_mode": {
    "name": "ipython",
    "version": 3
   },
   "file_extension": ".py",
   "mimetype": "text/x-python",
   "name": "python",
   "nbconvert_exporter": "python",
   "pygments_lexer": "ipython3",
   "version": "3.7.3"
  }
 },
 "nbformat": 4,
 "nbformat_minor": 1
}
