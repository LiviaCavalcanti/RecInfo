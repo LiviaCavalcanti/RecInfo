{
  "nbformat": 4,
  "nbformat_minor": 0,
  "metadata": {
    "colab": {
      "name": "indexing",
      "version": "0.3.2",
      "provenance": [],
      "collapsed_sections": [],
      "include_colab_link": true
    },
    "kernelspec": {
      "name": "python3",
      "display_name": "Python 3"
    }
  },
  "cells": [
    {
      "cell_type": "markdown",
      "metadata": {
        "id": "view-in-github",
        "colab_type": "text"
      },
      "source": [
        "<a href=\"https://colab.research.google.com/github/LiviaCavalcanti/RecInfo/blob/master/indexing.ipynb\" target=\"_parent\"><img src=\"https://colab.research.google.com/assets/colab-badge.svg\" alt=\"Open In Colab\"/></a>"
      ]
    },
    {
      "cell_type": "code",
      "metadata": {
        "id": "EMQB66GbQBBw",
        "colab_type": "code",
        "colab": {}
      },
      "source": [
        "import pandas as pd\n",
        "import re\n",
        "import nltk\n",
        "import numpy as np\n",
        "from nltk.tokenize import RegexpTokenizer\n",
        "from nltk.corpus import stopwords\n",
        "from nltk import stem\n",
        "import operator\n"
      ],
      "execution_count": 0,
      "outputs": []
    },
    {
      "cell_type": "code",
      "metadata": {
        "id": "QGADYOjKPRmb",
        "colab_type": "code",
        "outputId": "f48ec48a-21cd-4420-8452-d7215738342a",
        "colab": {
          "base_uri": "https://localhost:8080/",
          "height": 289
        }
      },
      "source": [
        "url = \"https://raw.githubusercontent.com/LiviaCavalcanti/RecInfo/master/lab02/results.csv\"\n",
        "original_data = pd.read_csv(url)\n",
        "amount_doc = len(original_data.text)\n",
        "original_data.head()"
      ],
      "execution_count": 0,
      "outputs": [
        {
          "output_type": "execute_result",
          "data": {
            "text/html": [
              "<div>\n",
              "<style scoped>\n",
              "    .dataframe tbody tr th:only-of-type {\n",
              "        vertical-align: middle;\n",
              "    }\n",
              "\n",
              "    .dataframe tbody tr th {\n",
              "        vertical-align: top;\n",
              "    }\n",
              "\n",
              "    .dataframe thead th {\n",
              "        text-align: right;\n",
              "    }\n",
              "</style>\n",
              "<table border=\"1\" class=\"dataframe\">\n",
              "  <thead>\n",
              "    <tr style=\"text-align: right;\">\n",
              "      <th></th>\n",
              "      <th>title</th>\n",
              "      <th>subtitle</th>\n",
              "      <th>author</th>\n",
              "      <th>date</th>\n",
              "      <th>section</th>\n",
              "      <th>text</th>\n",
              "      <th>url</th>\n",
              "    </tr>\n",
              "  </thead>\n",
              "  <tbody>\n",
              "    <tr>\n",
              "      <th>0</th>\n",
              "      <td>“A sociedade foi Rubens Paiva  não os facínora...</td>\n",
              "      <td>A decisão da juíza que proíbe as Forças Armada...</td>\n",
              "      <td>F. M.</td>\n",
              "      <td>30/03/2019 00:11:08</td>\n",
              "      <td>Brasil</td>\n",
              "      <td>A juíza federal Ivani Silva da Luz  de Brasíli...</td>\n",
              "      <td>https://brasil.elpais.com/brasil/2019/03/26/po...</td>\n",
              "    </tr>\n",
              "    <tr>\n",
              "      <th>1</th>\n",
              "      <td>Justiça suspende decisão que proibia Forças Ar...</td>\n",
              "      <td>Liminar havia sido concedida na sexta-feira a ...</td>\n",
              "      <td>Marina Rossi</td>\n",
              "      <td>30/03/2019 16:17:59</td>\n",
              "      <td>Brasil</td>\n",
              "      <td>Menos de 24 horas depois de a juíza federal Iv...</td>\n",
              "      <td>https://brasil.elpais.com/brasil/2019/03/30/po...</td>\n",
              "    </tr>\n",
              "    <tr>\n",
              "      <th>2</th>\n",
              "      <td>Governo Bolsonaro prega “negacionismo históric...</td>\n",
              "      <td>Marcos Napolitano  professor da USP  diz que o...</td>\n",
              "      <td>Regiane Oliveira</td>\n",
              "      <td>04/04/2019 22:37:48</td>\n",
              "      <td>Brasil</td>\n",
              "      <td>Quando  determinou que  de 31 de março 1964  u...</td>\n",
              "      <td>https://brasil.elpais.com/brasil/2019/04/05/po...</td>\n",
              "    </tr>\n",
              "    <tr>\n",
              "      <th>3</th>\n",
              "      <td>Quando os pais de Gabo perceberam que tinham u...</td>\n",
              "      <td>Gustavo Tatis percorre o universo de García Má...</td>\n",
              "      <td>Jesús Ruiz Mantilla</td>\n",
              "      <td>07/03/2019 16:38:56</td>\n",
              "      <td>Cultura</td>\n",
              "      <td>Quando  era pequeno   Luisa e  Gabriel se preo...</td>\n",
              "      <td>https://brasil.elpais.com/brasil/2019/03/06/cu...</td>\n",
              "    </tr>\n",
              "    <tr>\n",
              "      <th>4</th>\n",
              "      <td>Rádios canadenses banem músicas de Michael Jac...</td>\n",
              "      <td>Quebec Cogeco Media toma a decisão após queixa...</td>\n",
              "      <td>Jaime Porras Ferreyra</td>\n",
              "      <td>07/03/2019 16:12:37</td>\n",
              "      <td>Cultura</td>\n",
              "      <td>Desde a manhã da última segunda-feira     e   ...</td>\n",
              "      <td>https://brasil.elpais.com/brasil/2019/03/06/cu...</td>\n",
              "    </tr>\n",
              "  </tbody>\n",
              "</table>\n",
              "</div>"
            ],
            "text/plain": [
              "                                               title  \\\n",
              "0  “A sociedade foi Rubens Paiva  não os facínora...   \n",
              "1  Justiça suspende decisão que proibia Forças Ar...   \n",
              "2  Governo Bolsonaro prega “negacionismo históric...   \n",
              "3  Quando os pais de Gabo perceberam que tinham u...   \n",
              "4  Rádios canadenses banem músicas de Michael Jac...   \n",
              "\n",
              "                                            subtitle                 author  \\\n",
              "0  A decisão da juíza que proíbe as Forças Armada...                  F. M.   \n",
              "1  Liminar havia sido concedida na sexta-feira a ...           Marina Rossi   \n",
              "2  Marcos Napolitano  professor da USP  diz que o...       Regiane Oliveira   \n",
              "3  Gustavo Tatis percorre o universo de García Má...    Jesús Ruiz Mantilla   \n",
              "4  Quebec Cogeco Media toma a decisão após queixa...  Jaime Porras Ferreyra   \n",
              "\n",
              "                  date  section  \\\n",
              "0  30/03/2019 00:11:08   Brasil   \n",
              "1  30/03/2019 16:17:59   Brasil   \n",
              "2  04/04/2019 22:37:48   Brasil   \n",
              "3  07/03/2019 16:38:56  Cultura   \n",
              "4  07/03/2019 16:12:37  Cultura   \n",
              "\n",
              "                                                text  \\\n",
              "0  A juíza federal Ivani Silva da Luz  de Brasíli...   \n",
              "1  Menos de 24 horas depois de a juíza federal Iv...   \n",
              "2  Quando  determinou que  de 31 de março 1964  u...   \n",
              "3  Quando  era pequeno   Luisa e  Gabriel se preo...   \n",
              "4  Desde a manhã da última segunda-feira     e   ...   \n",
              "\n",
              "                                                 url  \n",
              "0  https://brasil.elpais.com/brasil/2019/03/26/po...  \n",
              "1  https://brasil.elpais.com/brasil/2019/03/30/po...  \n",
              "2  https://brasil.elpais.com/brasil/2019/04/05/po...  \n",
              "3  https://brasil.elpais.com/brasil/2019/03/06/cu...  \n",
              "4  https://brasil.elpais.com/brasil/2019/03/06/cu...  "
            ]
          },
          "metadata": {
            "tags": []
          },
          "execution_count": 2
        }
      ]
    },
    {
      "cell_type": "code",
      "metadata": {
        "id": "REykLpVnRVAH",
        "colab_type": "code",
        "colab": {}
      },
      "source": [
        "def tokenize(document, stem = False):\n",
        "  tokens = [token.lower() if isinstance(token, str) else token for token in re.split(r'\\W+', document)]\n",
        "  if(stem):\n",
        "    stemmer = stem.snowball.SnowballStemmer('portuguese')  \n",
        "    return  [stemmer.stem(word) for word in tokens]\n",
        "  else:\n",
        "    return tokens\n",
        "  "
      ],
      "execution_count": 0,
      "outputs": []
    },
    {
      "cell_type": "markdown",
      "metadata": {
        "id": "LqgVNIJQ1BpF",
        "colab_type": "text"
      },
      "source": [
        "### Parte 1\n",
        "_Execute o algoritmo ilustrado na Fig. 5.8 do livro texto (pag. 157) para gerar um índice similar o mostrado na Fig. 5.4 (pag. 134). Guarde o índice em disco em formato csv. (1 pt)_\n",
        "\n",
        "---\n",
        "\n"
      ]
    },
    {
      "cell_type": "markdown",
      "metadata": {
        "id": "gpN-57UizfJc",
        "colab_type": "text"
      },
      "source": [
        "Para a construção dos índices, foi utilizado dicionário como estrutura de dados. À medida que os _tokens_ são gerados para cada um dos documentos, o dicionário é atulizado com o novos _tokens_ como chaves e, como valores, são construídos novos dicionários. Cada um desses dicionários é contruído para que a chave seja o _id_ do documento e o valor seja a frequência do _token_ naquele documento."
      ]
    },
    {
      "cell_type": "code",
      "metadata": {
        "id": "dB5IhlvwMfx1",
        "colab_type": "code",
        "colab": {}
      },
      "source": [
        "def build_index(documents, stem=False):\n",
        "  indexes = dict()\n",
        "  \n",
        "  for doc_index in range(len(documents)):\n",
        "    doc_tokens = tokenize(documents[doc_index], stem)\n",
        "\n",
        "    for token in doc_tokens:\n",
        "      ## o token já foi visto antes\n",
        "      if not token in indexes:\n",
        "        indexes[token] = {str(doc_index): 1}\n",
        "      else:\n",
        "        if not str(doc_index) in indexes[token]:\n",
        "          indexes[token][str(doc_index)] = 1\n",
        "        else:\n",
        "\n",
        "          indexes[token][str(doc_index)] += 1\n",
        "\n",
        "\n",
        "  return indexes"
      ],
      "execution_count": 0,
      "outputs": []
    },
    {
      "cell_type": "code",
      "metadata": {
        "id": "FUlJOc9ZxX23",
        "colab_type": "code",
        "colab": {}
      },
      "source": [
        "## dicionario de tokens com respectivas frequências em cada documento, também em dicionário\n",
        "index_freq = build_index(original_data[\"text\"])\n",
        "doc_freq_df = pd.DataFrame(index_freq.items(), columns=[\"token\", \"doc_freq\"])"
      ],
      "execution_count": 0,
      "outputs": []
    },
    {
      "cell_type": "code",
      "metadata": {
        "id": "GHr-lZWz0lgA",
        "colab_type": "code",
        "outputId": "924435eb-c617-49a8-b153-1a0877694184",
        "colab": {
          "base_uri": "https://localhost:8080/",
          "height": 204
        }
      },
      "source": [
        "doc_freq_df.head()"
      ],
      "execution_count": 0,
      "outputs": [
        {
          "output_type": "execute_result",
          "data": {
            "text/html": [
              "<div>\n",
              "<style scoped>\n",
              "    .dataframe tbody tr th:only-of-type {\n",
              "        vertical-align: middle;\n",
              "    }\n",
              "\n",
              "    .dataframe tbody tr th {\n",
              "        vertical-align: top;\n",
              "    }\n",
              "\n",
              "    .dataframe thead th {\n",
              "        text-align: right;\n",
              "    }\n",
              "</style>\n",
              "<table border=\"1\" class=\"dataframe\">\n",
              "  <thead>\n",
              "    <tr style=\"text-align: right;\">\n",
              "      <th></th>\n",
              "      <th>token</th>\n",
              "      <th>doc_freq</th>\n",
              "    </tr>\n",
              "  </thead>\n",
              "  <tbody>\n",
              "    <tr>\n",
              "      <th>0</th>\n",
              "      <td>a</td>\n",
              "      <td>{'0': 27, '1': 16, '2': 38, '3': 24, '4': 26, ...</td>\n",
              "    </tr>\n",
              "    <tr>\n",
              "      <th>1</th>\n",
              "      <td>juíza</td>\n",
              "      <td>{'0': 2, '1': 1}</td>\n",
              "    </tr>\n",
              "    <tr>\n",
              "      <th>2</th>\n",
              "      <td>federal</td>\n",
              "      <td>{'0': 2, '1': 2, '2': 1, '5': 1, '6': 3, '14':...</td>\n",
              "    </tr>\n",
              "    <tr>\n",
              "      <th>3</th>\n",
              "      <td>ivani</td>\n",
              "      <td>{'0': 1, '1': 1}</td>\n",
              "    </tr>\n",
              "    <tr>\n",
              "      <th>4</th>\n",
              "      <td>silva</td>\n",
              "      <td>{'0': 3, '1': 1, '5': 1, '13': 2, '25': 1, '72...</td>\n",
              "    </tr>\n",
              "  </tbody>\n",
              "</table>\n",
              "</div>"
            ],
            "text/plain": [
              "     token                                           doc_freq\n",
              "0        a  {'0': 27, '1': 16, '2': 38, '3': 24, '4': 26, ...\n",
              "1    juíza                                   {'0': 2, '1': 1}\n",
              "2  federal  {'0': 2, '1': 2, '2': 1, '5': 1, '6': 3, '14':...\n",
              "3    ivani                                   {'0': 1, '1': 1}\n",
              "4    silva  {'0': 3, '1': 1, '5': 1, '13': 2, '25': 1, '72..."
            ]
          },
          "metadata": {
            "tags": []
          },
          "execution_count": 6
        }
      ]
    },
    {
      "cell_type": "markdown",
      "metadata": {
        "id": "6G5hXsD51NV7",
        "colab_type": "text"
      },
      "source": [
        "### Parte 2\n",
        "*Implemente as abordagens de processamento de consulta documento-por-vez e termo-por-vez (Fig. 5.16 e 5.18). (2 pts)*\n",
        "  \n",
        "  1. *Defina 5 consultas de um termo somente.*\n",
        "  2. *Execute as 5 consultas em cada algoritmo retornando os top-10 documentos (parâmetro k do algoritmo).*\n",
        "  3. *Dê evidências de que sua implementação está correta.*\n",
        "  4. *Compare os tempos médios de execução e uso de memória de cada algoritmo.*\n",
        "\n",
        "---\n",
        "\n"
      ]
    },
    {
      "cell_type": "markdown",
      "metadata": {
        "id": "ra7RAAaoDBL8",
        "colab_type": "text"
      },
      "source": [
        "O uso de dicionário também foi feito aqui para a geração dos resultados. Outro fator que diferenciou, ligeiramente, da implementação base do livro foi o conjunto de tokens aqui usados já vir com o _score_ de cada documento em relação ao _token_. Ficando, com isso, o cálculo do _score_ resumido a soma desses valores.\n",
        "\n"
      ]
    },
    {
      "cell_type": "code",
      "metadata": {
        "id": "tgdZtZ0j4D-d",
        "colab_type": "code",
        "colab": {}
      },
      "source": [
        "def term_at_a_time_retrieval(documents, query, index, n_doc_retrieve):\n",
        "  query_freq = index[index[\"token\"].isin(query)][[\"doc_freq\"]]\n",
        "  \n",
        "  token_score = dict()\n",
        "  for index, row in query_freq.iterrows():\n",
        "    freq_dic = row.doc_freq\n",
        "    for item in freq_dic:\n",
        "      if item in token_score.keys():\n",
        "        token_score[item] += freq_dic[item]\n",
        "      else:\n",
        "        token_score[item] = freq_dic[item]\n",
        "        \n",
        "  doc_score = sorted(sorted(token_score.items(), key=operator.itemgetter(0)), key=lambda tup: tup[1], reverse=True)\n",
        "  doc_score = [i for i in doc_score if i[1] != 0]\n",
        "\n",
        "  k_doc = []\n",
        "  for elem in doc_score[:n_doc_retrieve]:\n",
        "    k_doc.append(documents.loc[int(elem[0])])\n",
        "    \n",
        "  return k_doc"
      ],
      "execution_count": 0,
      "outputs": []
    },
    {
      "cell_type": "code",
      "metadata": {
        "id": "-KxNK4Wh7vEg",
        "colab_type": "code",
        "colab": {}
      },
      "source": [
        "def doc_at_a_time_retrieval(original_data, query, index, n_doc_retrieve):\n",
        "  \n",
        "  query_freq = index[index[\"token\"].isin(query)][[\"doc_freq\"]]\n",
        "  doc_indexes = original_data[[\"text\"]].index.values\n",
        "  \n",
        "  dic_score = dict()\n",
        "  for doc in doc_indexes:\n",
        "    dic_score[str(doc)] = 0\n",
        "    for index, row in query_freq.iterrows():\n",
        "      if str(doc) in row[\"doc_freq\"].keys():\n",
        "        dic_score[str(doc)] += row[\"doc_freq\"][str(doc)]\n",
        "  doc_score = sorted(sorted(dic_score.items(), key=operator.itemgetter(0)), key=lambda tup: tup[1], reverse=True)\n",
        "  \n",
        "  doc_score = [i for i in doc_score if i[1] != 0]\n",
        "  k_doc = []\n",
        "  for elem in doc_score[:n_doc_retrieve]:\n",
        "    k_doc.append(original_data[[\"text\"]].loc[int(elem[0])])\n",
        "  return k_doc    "
      ],
      "execution_count": 0,
      "outputs": []
    },
    {
      "cell_type": "markdown",
      "metadata": {
        "id": "ZLO8p19JOV57",
        "colab_type": "text"
      },
      "source": [
        "Fazendo um teste simples dessas implementações para os termos, aleatoriamente escolhidos e que têm pelo menos em dez documentos: \"justiça\", \"polícia\", \"política\", \"bolsonaro\", \"apesar\", verificou-se que o documentos retornados são os mesmos e na mesma ordem para todos os termos.\n",
        "\n",
        "Os _ids_ dos documentos relacionados a cada termo podem ser visto mais adiante."
      ]
    },
    {
      "cell_type": "code",
      "metadata": {
        "id": "mEKVoXPp5Mp9",
        "colab_type": "code",
        "colab": {}
      },
      "source": [
        "queries_list = [\"justiça\", \"polícia\", \"política\", \"bolsonaro\", \"apesar\"]\n",
        "results = {\"query\": [], \"doc retrieval\": [], \"term retrieval\": []}\n",
        "for query in queries_list:\n",
        "  results[\"query\"].append(query)\n",
        "  results[\"doc retrieval\"].append(doc_at_a_time_retrieval(original_data, [query], doc_freq_df, 10))\n",
        "  results[\"term retrieval\"].append(term_at_a_time_retrieval(original_data[[\"text\"]], [query], doc_freq_df, 10))"
      ],
      "execution_count": 0,
      "outputs": []
    },
    {
      "cell_type": "code",
      "metadata": {
        "id": "4bCJXE9ZJJei",
        "colab_type": "code",
        "outputId": "b429c53e-701d-4f31-c235-339bdec739a2",
        "colab": {
          "base_uri": "https://localhost:8080/",
          "height": 102
        }
      },
      "source": [
        "dfs = []\n",
        "for query_index in range(len(queries_list)):\n",
        "  print(queries_list[query_index], list(pd.DataFrame(results[\"doc retrieval\"][query_index]).index) == list(pd.DataFrame(results[\"term retrieval\"][query_index]).index))\n",
        "  dfs.append(pd.DataFrame(data={\"query\": queries_list[query_index], \"doc retrieval\": list(pd.DataFrame(results[\"doc retrieval\"][query_index]).index), \"term retrieval\": list(pd.DataFrame(results[\"term retrieval\"][query_index]).index)}))\n",
        "  "
      ],
      "execution_count": 0,
      "outputs": [
        {
          "output_type": "stream",
          "text": [
            "justiça True\n",
            "polícia True\n",
            "política True\n",
            "bolsonaro True\n",
            "apesar True\n"
          ],
          "name": "stdout"
        }
      ]
    },
    {
      "cell_type": "code",
      "metadata": {
        "id": "kUoxuJ6GOH5j",
        "colab_type": "code",
        "outputId": "725f9db8-011e-4bfd-9323-307913bf320f",
        "colab": {
          "base_uri": "https://localhost:8080/",
          "height": 1599
        }
      },
      "source": [
        "result_comparision = pd.concat(dfs)\n",
        "result_comparision"
      ],
      "execution_count": 0,
      "outputs": [
        {
          "output_type": "execute_result",
          "data": {
            "text/html": [
              "<div>\n",
              "<style scoped>\n",
              "    .dataframe tbody tr th:only-of-type {\n",
              "        vertical-align: middle;\n",
              "    }\n",
              "\n",
              "    .dataframe tbody tr th {\n",
              "        vertical-align: top;\n",
              "    }\n",
              "\n",
              "    .dataframe thead th {\n",
              "        text-align: right;\n",
              "    }\n",
              "</style>\n",
              "<table border=\"1\" class=\"dataframe\">\n",
              "  <thead>\n",
              "    <tr style=\"text-align: right;\">\n",
              "      <th></th>\n",
              "      <th>query</th>\n",
              "      <th>doc retrieval</th>\n",
              "      <th>term retrieval</th>\n",
              "    </tr>\n",
              "  </thead>\n",
              "  <tbody>\n",
              "    <tr>\n",
              "      <th>0</th>\n",
              "      <td>justiça</td>\n",
              "      <td>161</td>\n",
              "      <td>161</td>\n",
              "    </tr>\n",
              "    <tr>\n",
              "      <th>1</th>\n",
              "      <td>justiça</td>\n",
              "      <td>65</td>\n",
              "      <td>65</td>\n",
              "    </tr>\n",
              "    <tr>\n",
              "      <th>2</th>\n",
              "      <td>justiça</td>\n",
              "      <td>165</td>\n",
              "      <td>165</td>\n",
              "    </tr>\n",
              "    <tr>\n",
              "      <th>3</th>\n",
              "      <td>justiça</td>\n",
              "      <td>28</td>\n",
              "      <td>28</td>\n",
              "    </tr>\n",
              "    <tr>\n",
              "      <th>4</th>\n",
              "      <td>justiça</td>\n",
              "      <td>103</td>\n",
              "      <td>103</td>\n",
              "    </tr>\n",
              "    <tr>\n",
              "      <th>5</th>\n",
              "      <td>justiça</td>\n",
              "      <td>203</td>\n",
              "      <td>203</td>\n",
              "    </tr>\n",
              "    <tr>\n",
              "      <th>6</th>\n",
              "      <td>justiça</td>\n",
              "      <td>208</td>\n",
              "      <td>208</td>\n",
              "    </tr>\n",
              "    <tr>\n",
              "      <th>7</th>\n",
              "      <td>justiça</td>\n",
              "      <td>216</td>\n",
              "      <td>216</td>\n",
              "    </tr>\n",
              "    <tr>\n",
              "      <th>8</th>\n",
              "      <td>justiça</td>\n",
              "      <td>46</td>\n",
              "      <td>46</td>\n",
              "    </tr>\n",
              "    <tr>\n",
              "      <th>9</th>\n",
              "      <td>justiça</td>\n",
              "      <td>72</td>\n",
              "      <td>72</td>\n",
              "    </tr>\n",
              "    <tr>\n",
              "      <th>0</th>\n",
              "      <td>polícia</td>\n",
              "      <td>150</td>\n",
              "      <td>150</td>\n",
              "    </tr>\n",
              "    <tr>\n",
              "      <th>1</th>\n",
              "      <td>polícia</td>\n",
              "      <td>213</td>\n",
              "      <td>213</td>\n",
              "    </tr>\n",
              "    <tr>\n",
              "      <th>2</th>\n",
              "      <td>polícia</td>\n",
              "      <td>92</td>\n",
              "      <td>92</td>\n",
              "    </tr>\n",
              "    <tr>\n",
              "      <th>3</th>\n",
              "      <td>polícia</td>\n",
              "      <td>149</td>\n",
              "      <td>149</td>\n",
              "    </tr>\n",
              "    <tr>\n",
              "      <th>4</th>\n",
              "      <td>polícia</td>\n",
              "      <td>240</td>\n",
              "      <td>240</td>\n",
              "    </tr>\n",
              "    <tr>\n",
              "      <th>5</th>\n",
              "      <td>polícia</td>\n",
              "      <td>64</td>\n",
              "      <td>64</td>\n",
              "    </tr>\n",
              "    <tr>\n",
              "      <th>6</th>\n",
              "      <td>polícia</td>\n",
              "      <td>180</td>\n",
              "      <td>180</td>\n",
              "    </tr>\n",
              "    <tr>\n",
              "      <th>7</th>\n",
              "      <td>polícia</td>\n",
              "      <td>206</td>\n",
              "      <td>206</td>\n",
              "    </tr>\n",
              "    <tr>\n",
              "      <th>8</th>\n",
              "      <td>polícia</td>\n",
              "      <td>229</td>\n",
              "      <td>229</td>\n",
              "    </tr>\n",
              "    <tr>\n",
              "      <th>9</th>\n",
              "      <td>polícia</td>\n",
              "      <td>248</td>\n",
              "      <td>248</td>\n",
              "    </tr>\n",
              "    <tr>\n",
              "      <th>0</th>\n",
              "      <td>política</td>\n",
              "      <td>68</td>\n",
              "      <td>68</td>\n",
              "    </tr>\n",
              "    <tr>\n",
              "      <th>1</th>\n",
              "      <td>política</td>\n",
              "      <td>165</td>\n",
              "      <td>165</td>\n",
              "    </tr>\n",
              "    <tr>\n",
              "      <th>2</th>\n",
              "      <td>política</td>\n",
              "      <td>234</td>\n",
              "      <td>234</td>\n",
              "    </tr>\n",
              "    <tr>\n",
              "      <th>3</th>\n",
              "      <td>política</td>\n",
              "      <td>203</td>\n",
              "      <td>203</td>\n",
              "    </tr>\n",
              "    <tr>\n",
              "      <th>4</th>\n",
              "      <td>política</td>\n",
              "      <td>137</td>\n",
              "      <td>137</td>\n",
              "    </tr>\n",
              "    <tr>\n",
              "      <th>5</th>\n",
              "      <td>política</td>\n",
              "      <td>151</td>\n",
              "      <td>151</td>\n",
              "    </tr>\n",
              "    <tr>\n",
              "      <th>6</th>\n",
              "      <td>política</td>\n",
              "      <td>164</td>\n",
              "      <td>164</td>\n",
              "    </tr>\n",
              "    <tr>\n",
              "      <th>7</th>\n",
              "      <td>política</td>\n",
              "      <td>172</td>\n",
              "      <td>172</td>\n",
              "    </tr>\n",
              "    <tr>\n",
              "      <th>8</th>\n",
              "      <td>política</td>\n",
              "      <td>62</td>\n",
              "      <td>62</td>\n",
              "    </tr>\n",
              "    <tr>\n",
              "      <th>9</th>\n",
              "      <td>política</td>\n",
              "      <td>167</td>\n",
              "      <td>167</td>\n",
              "    </tr>\n",
              "    <tr>\n",
              "      <th>0</th>\n",
              "      <td>bolsonaro</td>\n",
              "      <td>150</td>\n",
              "      <td>150</td>\n",
              "    </tr>\n",
              "    <tr>\n",
              "      <th>1</th>\n",
              "      <td>bolsonaro</td>\n",
              "      <td>165</td>\n",
              "      <td>165</td>\n",
              "    </tr>\n",
              "    <tr>\n",
              "      <th>2</th>\n",
              "      <td>bolsonaro</td>\n",
              "      <td>206</td>\n",
              "      <td>206</td>\n",
              "    </tr>\n",
              "    <tr>\n",
              "      <th>3</th>\n",
              "      <td>bolsonaro</td>\n",
              "      <td>18</td>\n",
              "      <td>18</td>\n",
              "    </tr>\n",
              "    <tr>\n",
              "      <th>4</th>\n",
              "      <td>bolsonaro</td>\n",
              "      <td>207</td>\n",
              "      <td>207</td>\n",
              "    </tr>\n",
              "    <tr>\n",
              "      <th>5</th>\n",
              "      <td>bolsonaro</td>\n",
              "      <td>215</td>\n",
              "      <td>215</td>\n",
              "    </tr>\n",
              "    <tr>\n",
              "      <th>6</th>\n",
              "      <td>bolsonaro</td>\n",
              "      <td>41</td>\n",
              "      <td>41</td>\n",
              "    </tr>\n",
              "    <tr>\n",
              "      <th>7</th>\n",
              "      <td>bolsonaro</td>\n",
              "      <td>110</td>\n",
              "      <td>110</td>\n",
              "    </tr>\n",
              "    <tr>\n",
              "      <th>8</th>\n",
              "      <td>bolsonaro</td>\n",
              "      <td>224</td>\n",
              "      <td>224</td>\n",
              "    </tr>\n",
              "    <tr>\n",
              "      <th>9</th>\n",
              "      <td>bolsonaro</td>\n",
              "      <td>234</td>\n",
              "      <td>234</td>\n",
              "    </tr>\n",
              "    <tr>\n",
              "      <th>0</th>\n",
              "      <td>apesar</td>\n",
              "      <td>114</td>\n",
              "      <td>114</td>\n",
              "    </tr>\n",
              "    <tr>\n",
              "      <th>1</th>\n",
              "      <td>apesar</td>\n",
              "      <td>65</td>\n",
              "      <td>65</td>\n",
              "    </tr>\n",
              "    <tr>\n",
              "      <th>2</th>\n",
              "      <td>apesar</td>\n",
              "      <td>149</td>\n",
              "      <td>149</td>\n",
              "    </tr>\n",
              "    <tr>\n",
              "      <th>3</th>\n",
              "      <td>apesar</td>\n",
              "      <td>203</td>\n",
              "      <td>203</td>\n",
              "    </tr>\n",
              "    <tr>\n",
              "      <th>4</th>\n",
              "      <td>apesar</td>\n",
              "      <td>64</td>\n",
              "      <td>64</td>\n",
              "    </tr>\n",
              "    <tr>\n",
              "      <th>5</th>\n",
              "      <td>apesar</td>\n",
              "      <td>105</td>\n",
              "      <td>105</td>\n",
              "    </tr>\n",
              "    <tr>\n",
              "      <th>6</th>\n",
              "      <td>apesar</td>\n",
              "      <td>146</td>\n",
              "      <td>146</td>\n",
              "    </tr>\n",
              "    <tr>\n",
              "      <th>7</th>\n",
              "      <td>apesar</td>\n",
              "      <td>156</td>\n",
              "      <td>156</td>\n",
              "    </tr>\n",
              "    <tr>\n",
              "      <th>8</th>\n",
              "      <td>apesar</td>\n",
              "      <td>217</td>\n",
              "      <td>217</td>\n",
              "    </tr>\n",
              "    <tr>\n",
              "      <th>9</th>\n",
              "      <td>apesar</td>\n",
              "      <td>222</td>\n",
              "      <td>222</td>\n",
              "    </tr>\n",
              "  </tbody>\n",
              "</table>\n",
              "</div>"
            ],
            "text/plain": [
              "       query  doc retrieval  term retrieval\n",
              "0    justiça            161             161\n",
              "1    justiça             65              65\n",
              "2    justiça            165             165\n",
              "3    justiça             28              28\n",
              "4    justiça            103             103\n",
              "5    justiça            203             203\n",
              "6    justiça            208             208\n",
              "7    justiça            216             216\n",
              "8    justiça             46              46\n",
              "9    justiça             72              72\n",
              "0    polícia            150             150\n",
              "1    polícia            213             213\n",
              "2    polícia             92              92\n",
              "3    polícia            149             149\n",
              "4    polícia            240             240\n",
              "5    polícia             64              64\n",
              "6    polícia            180             180\n",
              "7    polícia            206             206\n",
              "8    polícia            229             229\n",
              "9    polícia            248             248\n",
              "0   política             68              68\n",
              "1   política            165             165\n",
              "2   política            234             234\n",
              "3   política            203             203\n",
              "4   política            137             137\n",
              "5   política            151             151\n",
              "6   política            164             164\n",
              "7   política            172             172\n",
              "8   política             62              62\n",
              "9   política            167             167\n",
              "0  bolsonaro            150             150\n",
              "1  bolsonaro            165             165\n",
              "2  bolsonaro            206             206\n",
              "3  bolsonaro             18              18\n",
              "4  bolsonaro            207             207\n",
              "5  bolsonaro            215             215\n",
              "6  bolsonaro             41              41\n",
              "7  bolsonaro            110             110\n",
              "8  bolsonaro            224             224\n",
              "9  bolsonaro            234             234\n",
              "0     apesar            114             114\n",
              "1     apesar             65              65\n",
              "2     apesar            149             149\n",
              "3     apesar            203             203\n",
              "4     apesar             64              64\n",
              "5     apesar            105             105\n",
              "6     apesar            146             146\n",
              "7     apesar            156             156\n",
              "8     apesar            217             217\n",
              "9     apesar            222             222"
            ]
          },
          "metadata": {
            "tags": []
          },
          "execution_count": 70
        }
      ]
    },
    {
      "cell_type": "markdown",
      "metadata": {
        "id": "_c4cp4PtFKDm",
        "colab_type": "text"
      },
      "source": [
        "Como pode ser visto a partir das verificações de uso de memória e de tempo de execução, para o formato de dados utilizado a recuperação por termo é mais eficiente. Já que, apesar de utilizarem a mesma quantidade de memória, basear-se em documento demanda mais tempo.\n",
        "\n",
        "Isso, provavelmente, ocorre pela maior quantidade de consultas que precisam ser feitas. A recuperação baseada em documento precisa percorrer todos os documentos para atualizar o _score_, enquanto baseando-se por termo, precisa-se percorrer, apenas, os documentos que contêm o _tokens_ de interesse."
      ]
    },
    {
      "cell_type": "code",
      "metadata": {
        "id": "KygNm4Lc3RwH",
        "colab_type": "code",
        "outputId": "18d8042c-ae48-4914-d93d-eaae5ee1788b",
        "colab": {
          "base_uri": "https://localhost:8080/",
          "height": 187
        }
      },
      "source": [
        "pip install memory_profiler"
      ],
      "execution_count": 0,
      "outputs": [
        {
          "output_type": "stream",
          "text": [
            "Collecting memory_profiler\n",
            "\u001b[?25l  Downloading https://files.pythonhosted.org/packages/9f/fe/1fca7273dd111108f204a686b12a12b6422d405fe4614087aa7d5a66ea87/memory_profiler-0.55.0.tar.gz (40kB)\n",
            "\u001b[K     |████████████████████████████████| 40kB 3.1MB/s \n",
            "\u001b[?25hRequirement already satisfied: psutil in /usr/local/lib/python3.6/dist-packages (from memory_profiler) (5.4.8)\n",
            "Building wheels for collected packages: memory-profiler\n",
            "  Building wheel for memory-profiler (setup.py) ... \u001b[?25l\u001b[?25hdone\n",
            "  Stored in directory: /root/.cache/pip/wheels/f0/ff/63/fdbff3f1e1b76ad4eae491dd5b190902906b093e93eb86dd5a\n",
            "Successfully built memory-profiler\n",
            "Installing collected packages: memory-profiler\n",
            "Successfully installed memory-profiler-0.55.0\n"
          ],
          "name": "stdout"
        }
      ]
    },
    {
      "cell_type": "code",
      "metadata": {
        "id": "7tgfr7vr3v4d",
        "colab_type": "code",
        "colab": {}
      },
      "source": [
        "%load_ext memory_profiler"
      ],
      "execution_count": 0,
      "outputs": []
    },
    {
      "cell_type": "markdown",
      "metadata": {
        "id": "u1l5myuqGw7i",
        "colab_type": "text"
      },
      "source": [
        "**Tempo de execução**"
      ]
    },
    {
      "cell_type": "code",
      "metadata": {
        "id": "VRn3kby0BT6P",
        "colab_type": "code",
        "outputId": "1b1a22ea-7b83-469d-cffa-bfa07118ab48",
        "colab": {
          "base_uri": "https://localhost:8080/",
          "height": 34
        }
      },
      "source": [
        "%%timeit\n",
        "doc_at_a_time_retrieval(original_data, [\"apesar\"], doc_freq_df, 10)"
      ],
      "execution_count": 0,
      "outputs": [
        {
          "output_type": "stream",
          "text": [
            "10 loops, best of 3: 56.5 ms per loop\n"
          ],
          "name": "stdout"
        }
      ]
    },
    {
      "cell_type": "code",
      "metadata": {
        "id": "pHXyoUz94XJM",
        "colab_type": "code",
        "outputId": "264a2444-6416-463c-d1f6-1470cd9f9bd3",
        "colab": {
          "base_uri": "https://localhost:8080/",
          "height": 34
        }
      },
      "source": [
        "%%timeit\n",
        "term_at_a_time_retrieval(original_data[[\"text\"]], [\"apesar\"], doc_freq_df, 10)"
      ],
      "execution_count": 0,
      "outputs": [
        {
          "output_type": "stream",
          "text": [
            "100 loops, best of 3: 5.39 ms per loop\n"
          ],
          "name": "stdout"
        }
      ]
    },
    {
      "cell_type": "markdown",
      "metadata": {
        "id": "DUhzuoE7G7NB",
        "colab_type": "text"
      },
      "source": [
        "**Uso de memória**"
      ]
    },
    {
      "cell_type": "code",
      "metadata": {
        "id": "PrXGt9C_CA0e",
        "colab_type": "code",
        "outputId": "cc6bdaa5-479e-4312-870c-3b2d39ded3ec",
        "colab": {
          "base_uri": "https://localhost:8080/",
          "height": 34
        }
      },
      "source": [
        "%memit\n",
        "_ = term_at_a_time_retrieval(original_data[[\"text\"]], [\"apesar\"], doc_freq_df, 10)"
      ],
      "execution_count": 0,
      "outputs": [
        {
          "output_type": "stream",
          "text": [
            "peak memory: 192.51 MiB, increment: 0.00 MiB\n"
          ],
          "name": "stdout"
        }
      ]
    },
    {
      "cell_type": "code",
      "metadata": {
        "id": "r3xFMs_PCB2f",
        "colab_type": "code",
        "outputId": "2063d8f5-f328-4ec3-90eb-8d926f9c007c",
        "colab": {
          "base_uri": "https://localhost:8080/",
          "height": 34
        }
      },
      "source": [
        "%memit\n",
        "_ = doc_at_a_time_retrieval(original_data, [\"apesar\"], doc_freq_df, 10)"
      ],
      "execution_count": 0,
      "outputs": [
        {
          "output_type": "stream",
          "text": [
            "peak memory: 192.51 MiB, increment: 0.00 MiB\n"
          ],
          "name": "stdout"
        }
      ]
    },
    {
      "cell_type": "markdown",
      "metadata": {
        "id": "JUj2CKPy3eNo",
        "colab_type": "text"
      },
      "source": [
        "### Parte 3\n",
        "\n",
        "*Implemente uma das versões de consulta conjuntiva (AND) (Fig. 5.20 ou 5.21). (2 pts)*\n",
        "\n",
        "  1. *Defina 5 consultas conjuntivas (AND).*\n",
        "  2. *Execute as 5 consultas em cada algoritmo retornando os top-10 documentos (parâmetro k do algoritmo).*\n",
        "  3. *Dê evidências de que sua implementação está correta.*"
      ]
    },
    {
      "cell_type": "markdown",
      "metadata": {
        "id": "R1he1k9tbVpU",
        "colab_type": "text"
      },
      "source": [
        "Como a abordagem a partir de dicionários continuou a ser utilizada por uniformidade, foi necessário usar uma função auxiliar, `dic_split`, para que a remoção de elementos do dicionários fosse realizada em conformidade do algoritmo no livro.\n",
        "\n",
        "Comparando os resultados individuais, obtidos a partir da recuperação termo a termo, observa-se que eles são iguais aos da recuperação conjuntiva termo a termo aqui implementada. É importante lembrar que para fazer essa comparação deve-se considerar o _score_ de todos os documentos, já que não se sabe em quais documentos a interseção entre os dois termos ocorre."
      ]
    },
    {
      "cell_type": "code",
      "metadata": {
        "id": "TSjOIY1OaSKf",
        "colab_type": "code",
        "colab": {}
      },
      "source": [
        "def dic_split(dic, previous_value, actual_value):\n",
        "  array_dic = list(dic.items())\n",
        "  init_index = -1\n",
        "  last_index = len(array_dic)\n",
        "  for item_index in range(len(array_dic)):\n",
        "    \n",
        "    if array_dic[item_index][0] == previous_value:\n",
        "      init_index = item_index\n",
        "    if array_dic[item_index][0] == actual_value:\n",
        "      last_index = item_index\n",
        "  \n",
        "  if last_index < len(array_dic)-1:\n",
        "    del array_dic[init_index:last_index]\n",
        "    q = dict(array_dic)\n",
        "    last_index = init_index + 1\n",
        "    l=array_dic[last_index][0]\n",
        "\n",
        "  else:\n",
        "    del array_dic[init_index:last_index]\n",
        "    q = dict(array_dic)\n",
        "    if len(array_dic)>0:\n",
        "      l=array_dic[init_index-1]\n",
        "    else:\n",
        "      last_index = None\n",
        "      l=None\n",
        "  return q, l"
      ],
      "execution_count": 0,
      "outputs": []
    },
    {
      "cell_type": "code",
      "metadata": {
        "id": "u8Tg_j_y3g4P",
        "colab_type": "code",
        "colab": {}
      },
      "source": [
        "def term_at_time_conjuntive_retrival(doc_freq_df, query, n_doc_retrieve):\n",
        "  query_freq = doc_freq_df[doc_freq_df[\"token\"].isin(query)]\n",
        "  token_score = dict()\n",
        "  fist_time_flag = True\n",
        "  for index, row in query_freq.iterrows():\n",
        "    freq_dic = row.doc_freq\n",
        "    for item in freq_dic:\n",
        "\n",
        "      if fist_time_flag:\n",
        "        if item in token_score.keys():\n",
        "          token_score[item] += freq_dic[item]\n",
        "        else:\n",
        "          token_score[item] = freq_dic[item]\n",
        "      else:\n",
        "        if item in token_score.keys():\n",
        "          token_score[item] += freq_dic[item]\n",
        "          token_score, previous_doc = dic_split(token_score, previous_doc, item)\n",
        "\n",
        "    if not fist_time_flag and previous_doc not in freq_dic.keys():\n",
        "      token_score, previous_doc = dic_split(token_score, previous_doc, list(token_score.items())[-1])\n",
        "    if fist_time_flag:\n",
        "      fist_time_flag = False\n",
        "    previous_doc = list(token_score.keys())[0]\n",
        "  \n",
        "  doc_score = sorted(sorted(token_score.items(), key=operator.itemgetter(0)), key=lambda tup: tup[1], reverse=True)\n",
        "  \n",
        "  doc_score = [i for i in doc_score if i[1] != 0]\n",
        "  k_doc = []\n",
        "  for elem in doc_score[:n_doc_retrieve]:\n",
        "    k_doc.append(original_data[[\"text\"]].loc[int(elem[0])])\n",
        "  return k_doc\n"
      ],
      "execution_count": 0,
      "outputs": []
    },
    {
      "cell_type": "code",
      "metadata": {
        "id": "JP1ChFHHQ2G7",
        "colab_type": "code",
        "outputId": "b2f417b5-0509-433f-d1e0-dd6195ca598a",
        "colab": {
          "base_uri": "https://localhost:8080/",
          "height": 297
        }
      },
      "source": [
        "query1 = pd.DataFrame(term_at_time_conjuntive_retrival(doc_freq_df, [\"polícia\", \"justiça\"], 10))\n",
        "query1"
      ],
      "execution_count": 0,
      "outputs": [
        {
          "output_type": "execute_result",
          "data": {
            "text/html": [
              "<div>\n",
              "<style scoped>\n",
              "    .dataframe tbody tr th:only-of-type {\n",
              "        vertical-align: middle;\n",
              "    }\n",
              "\n",
              "    .dataframe tbody tr th {\n",
              "        vertical-align: top;\n",
              "    }\n",
              "\n",
              "    .dataframe thead th {\n",
              "        text-align: right;\n",
              "    }\n",
              "</style>\n",
              "<table border=\"1\" class=\"dataframe\">\n",
              "  <thead>\n",
              "    <tr style=\"text-align: right;\">\n",
              "      <th></th>\n",
              "      <th>text</th>\n",
              "    </tr>\n",
              "  </thead>\n",
              "  <tbody>\n",
              "    <tr>\n",
              "      <th>150</th>\n",
              "      <td>Quando soube que  havia sido assassinada  eu t...</td>\n",
              "    </tr>\n",
              "    <tr>\n",
              "      <th>165</th>\n",
              "      <td>O próximo domingo  31 de março  marca 55 anos ...</td>\n",
              "    </tr>\n",
              "    <tr>\n",
              "      <th>240</th>\n",
              "      <td>Uma ação da Rota  a tropa de elite da  do Esta...</td>\n",
              "    </tr>\n",
              "    <tr>\n",
              "      <th>203</th>\n",
              "      <td>Dois dos sete presidentes que o Brasil teve de...</td>\n",
              "    </tr>\n",
              "    <tr>\n",
              "      <th>216</th>\n",
              "      <td>Nos últimos anos  a  (Funai) vem atuando com c...</td>\n",
              "    </tr>\n",
              "    <tr>\n",
              "      <th>72</th>\n",
              "      <td>O ex-terrorista italiano de extrema esquerda  ...</td>\n",
              "    </tr>\n",
              "    <tr>\n",
              "      <th>6</th>\n",
              "      <td>Trajetória similar tiveram outros vários agent...</td>\n",
              "    </tr>\n",
              "    <tr>\n",
              "      <th>168</th>\n",
              "      <td>Em 18 de setembro de 1985  o procurador Julio ...</td>\n",
              "    </tr>\n",
              "  </tbody>\n",
              "</table>\n",
              "</div>"
            ],
            "text/plain": [
              "                                                  text\n",
              "150  Quando soube que  havia sido assassinada  eu t...\n",
              "165  O próximo domingo  31 de março  marca 55 anos ...\n",
              "240  Uma ação da Rota  a tropa de elite da  do Esta...\n",
              "203  Dois dos sete presidentes que o Brasil teve de...\n",
              "216  Nos últimos anos  a  (Funai) vem atuando com c...\n",
              "72   O ex-terrorista italiano de extrema esquerda  ...\n",
              "6    Trajetória similar tiveram outros vários agent...\n",
              "168  Em 18 de setembro de 1985  o procurador Julio ..."
            ]
          },
          "metadata": {
            "tags": []
          },
          "execution_count": 97
        }
      ]
    },
    {
      "cell_type": "code",
      "metadata": {
        "id": "O-JaYZ1_RuTZ",
        "colab_type": "code",
        "outputId": "34ea7d89-1a57-443f-8a5c-7774fb92437d",
        "colab": {
          "base_uri": "https://localhost:8080/",
          "height": 328
        }
      },
      "source": [
        "query2 = pd.DataFrame(term_at_time_conjuntive_retrival(doc_freq_df, [\"polícia\", \"bolsonaro\"], 10))\n",
        "query2"
      ],
      "execution_count": 0,
      "outputs": [
        {
          "output_type": "execute_result",
          "data": {
            "text/html": [
              "<div>\n",
              "<style scoped>\n",
              "    .dataframe tbody tr th:only-of-type {\n",
              "        vertical-align: middle;\n",
              "    }\n",
              "\n",
              "    .dataframe tbody tr th {\n",
              "        vertical-align: top;\n",
              "    }\n",
              "\n",
              "    .dataframe thead th {\n",
              "        text-align: right;\n",
              "    }\n",
              "</style>\n",
              "<table border=\"1\" class=\"dataframe\">\n",
              "  <thead>\n",
              "    <tr style=\"text-align: right;\">\n",
              "      <th></th>\n",
              "      <th>text</th>\n",
              "    </tr>\n",
              "  </thead>\n",
              "  <tbody>\n",
              "    <tr>\n",
              "      <th>150</th>\n",
              "      <td>Quando soube que  havia sido assassinada  eu t...</td>\n",
              "    </tr>\n",
              "    <tr>\n",
              "      <th>165</th>\n",
              "      <td>O próximo domingo  31 de março  marca 55 anos ...</td>\n",
              "    </tr>\n",
              "    <tr>\n",
              "      <th>206</th>\n",
              "      <td>A “rachadinha” – apropriação de salários de as...</td>\n",
              "    </tr>\n",
              "    <tr>\n",
              "      <th>41</th>\n",
              "      <td>O presidente  chegou na madrugada deste doming...</td>\n",
              "    </tr>\n",
              "    <tr>\n",
              "      <th>139</th>\n",
              "      <td>A verdadeira casta –parte do 1% do Brasil– são...</td>\n",
              "    </tr>\n",
              "    <tr>\n",
              "      <th>203</th>\n",
              "      <td>Dois dos sete presidentes que o Brasil teve de...</td>\n",
              "    </tr>\n",
              "    <tr>\n",
              "      <th>229</th>\n",
              "      <td>“Putas feministas”  gritava descontroladamente...</td>\n",
              "    </tr>\n",
              "    <tr>\n",
              "      <th>6</th>\n",
              "      <td>Trajetória similar tiveram outros vários agent...</td>\n",
              "    </tr>\n",
              "    <tr>\n",
              "      <th>72</th>\n",
              "      <td>O ex-terrorista italiano de extrema esquerda  ...</td>\n",
              "    </tr>\n",
              "  </tbody>\n",
              "</table>\n",
              "</div>"
            ],
            "text/plain": [
              "                                                  text\n",
              "150  Quando soube que  havia sido assassinada  eu t...\n",
              "165  O próximo domingo  31 de março  marca 55 anos ...\n",
              "206  A “rachadinha” – apropriação de salários de as...\n",
              "41   O presidente  chegou na madrugada deste doming...\n",
              "139  A verdadeira casta –parte do 1% do Brasil– são...\n",
              "203  Dois dos sete presidentes que o Brasil teve de...\n",
              "229  “Putas feministas”  gritava descontroladamente...\n",
              "6    Trajetória similar tiveram outros vários agent...\n",
              "72   O ex-terrorista italiano de extrema esquerda  ..."
            ]
          },
          "metadata": {
            "tags": []
          },
          "execution_count": 65
        }
      ]
    },
    {
      "cell_type": "code",
      "metadata": {
        "id": "HuI0tkJwR0oZ",
        "colab_type": "code",
        "outputId": "df58aed2-f824-4a0f-e704-c59ad659e70a",
        "colab": {
          "base_uri": "https://localhost:8080/",
          "height": 266
        }
      },
      "source": [
        "query3 = pd.DataFrame(term_at_time_conjuntive_retrival(doc_freq_df, [\"polícia\", \"política\"], 10))\n",
        "query3"
      ],
      "execution_count": 0,
      "outputs": [
        {
          "output_type": "execute_result",
          "data": {
            "text/html": [
              "<div>\n",
              "<style scoped>\n",
              "    .dataframe tbody tr th:only-of-type {\n",
              "        vertical-align: middle;\n",
              "    }\n",
              "\n",
              "    .dataframe tbody tr th {\n",
              "        vertical-align: top;\n",
              "    }\n",
              "\n",
              "    .dataframe thead th {\n",
              "        text-align: right;\n",
              "    }\n",
              "</style>\n",
              "<table border=\"1\" class=\"dataframe\">\n",
              "  <thead>\n",
              "    <tr style=\"text-align: right;\">\n",
              "      <th></th>\n",
              "      <th>text</th>\n",
              "    </tr>\n",
              "  </thead>\n",
              "  <tbody>\n",
              "    <tr>\n",
              "      <th>165</th>\n",
              "      <td>O próximo domingo  31 de março  marca 55 anos ...</td>\n",
              "    </tr>\n",
              "    <tr>\n",
              "      <th>203</th>\n",
              "      <td>Dois dos sete presidentes que o Brasil teve de...</td>\n",
              "    </tr>\n",
              "    <tr>\n",
              "      <th>6</th>\n",
              "      <td>Trajetória similar tiveram outros vários agent...</td>\n",
              "    </tr>\n",
              "    <tr>\n",
              "      <th>149</th>\n",
              "      <td>Nos últimos anos  a maioria dos comentaristas ...</td>\n",
              "    </tr>\n",
              "    <tr>\n",
              "      <th>216</th>\n",
              "      <td>Nos últimos anos  a  (Funai) vem atuando com c...</td>\n",
              "    </tr>\n",
              "    <tr>\n",
              "      <th>206</th>\n",
              "      <td>A “rachadinha” – apropriação de salários de as...</td>\n",
              "    </tr>\n",
              "    <tr>\n",
              "      <th>139</th>\n",
              "      <td>A verdadeira casta –parte do 1% do Brasil– são...</td>\n",
              "    </tr>\n",
              "  </tbody>\n",
              "</table>\n",
              "</div>"
            ],
            "text/plain": [
              "                                                  text\n",
              "165  O próximo domingo  31 de março  marca 55 anos ...\n",
              "203  Dois dos sete presidentes que o Brasil teve de...\n",
              "6    Trajetória similar tiveram outros vários agent...\n",
              "149  Nos últimos anos  a maioria dos comentaristas ...\n",
              "216  Nos últimos anos  a  (Funai) vem atuando com c...\n",
              "206  A “rachadinha” – apropriação de salários de as...\n",
              "139  A verdadeira casta –parte do 1% do Brasil– são..."
            ]
          },
          "metadata": {
            "tags": []
          },
          "execution_count": 66
        }
      ]
    },
    {
      "cell_type": "code",
      "metadata": {
        "id": "2rsEhFc-R4KY",
        "colab_type": "code",
        "outputId": "df36cce9-9a03-41db-d13c-a409b357c9af",
        "colab": {
          "base_uri": "https://localhost:8080/",
          "height": 359
        }
      },
      "source": [
        "query4 = pd.DataFrame(term_at_time_conjuntive_retrival(doc_freq_df, [\"apesar\", \"justiça\"], 10))\n",
        "query4"
      ],
      "execution_count": 0,
      "outputs": [
        {
          "output_type": "execute_result",
          "data": {
            "text/html": [
              "<div>\n",
              "<style scoped>\n",
              "    .dataframe tbody tr th:only-of-type {\n",
              "        vertical-align: middle;\n",
              "    }\n",
              "\n",
              "    .dataframe tbody tr th {\n",
              "        vertical-align: top;\n",
              "    }\n",
              "\n",
              "    .dataframe thead th {\n",
              "        text-align: right;\n",
              "    }\n",
              "</style>\n",
              "<table border=\"1\" class=\"dataframe\">\n",
              "  <thead>\n",
              "    <tr style=\"text-align: right;\">\n",
              "      <th></th>\n",
              "      <th>text</th>\n",
              "    </tr>\n",
              "  </thead>\n",
              "  <tbody>\n",
              "    <tr>\n",
              "      <th>65</th>\n",
              "      <td>O promotor especial  não encontrou evidências ...</td>\n",
              "    </tr>\n",
              "    <tr>\n",
              "      <th>203</th>\n",
              "      <td>Dois dos sete presidentes que o Brasil teve de...</td>\n",
              "    </tr>\n",
              "    <tr>\n",
              "      <th>28</th>\n",
              "      <td>O que têm em comum os restos de fuzilados depo...</td>\n",
              "    </tr>\n",
              "    <tr>\n",
              "      <th>103</th>\n",
              "      <td>O ministro da Defesa do Uruguai  Jorge Menénde...</td>\n",
              "    </tr>\n",
              "    <tr>\n",
              "      <th>222</th>\n",
              "      <td>O procurador da Justiça Militar aposentado Dur...</td>\n",
              "    </tr>\n",
              "    <tr>\n",
              "      <th>72</th>\n",
              "      <td>O ex-terrorista italiano de extrema esquerda  ...</td>\n",
              "    </tr>\n",
              "    <tr>\n",
              "      <th>105</th>\n",
              "      <td>O chavismo prepara o terreno para uma eventual...</td>\n",
              "    </tr>\n",
              "    <tr>\n",
              "      <th>150</th>\n",
              "      <td>Quando soube que  havia sido assassinada  eu t...</td>\n",
              "    </tr>\n",
              "    <tr>\n",
              "      <th>156</th>\n",
              "      <td>Começou em frente ao parlamento sueco em 27 de...</td>\n",
              "    </tr>\n",
              "    <tr>\n",
              "      <th>225</th>\n",
              "      <td>O laudo de exames feitos em  neto do   descart...</td>\n",
              "    </tr>\n",
              "  </tbody>\n",
              "</table>\n",
              "</div>"
            ],
            "text/plain": [
              "                                                  text\n",
              "65   O promotor especial  não encontrou evidências ...\n",
              "203  Dois dos sete presidentes que o Brasil teve de...\n",
              "28   O que têm em comum os restos de fuzilados depo...\n",
              "103  O ministro da Defesa do Uruguai  Jorge Menénde...\n",
              "222  O procurador da Justiça Militar aposentado Dur...\n",
              "72   O ex-terrorista italiano de extrema esquerda  ...\n",
              "105  O chavismo prepara o terreno para uma eventual...\n",
              "150  Quando soube que  havia sido assassinada  eu t...\n",
              "156  Começou em frente ao parlamento sueco em 27 de...\n",
              "225  O laudo de exames feitos em  neto do   descart..."
            ]
          },
          "metadata": {
            "tags": []
          },
          "execution_count": 67
        }
      ]
    },
    {
      "cell_type": "code",
      "metadata": {
        "id": "FRttp028R8Sh",
        "colab_type": "code",
        "outputId": "feaf5b6c-5ff0-4f43-b8ae-ee712520ce7a",
        "colab": {
          "base_uri": "https://localhost:8080/",
          "height": 359
        }
      },
      "source": [
        "query5 = pd.DataFrame(term_at_time_conjuntive_retrival(doc_freq_df, [\"apesar\", \"bolsonaro\"], 10))\n",
        "query5"
      ],
      "execution_count": 0,
      "outputs": [
        {
          "output_type": "execute_result",
          "data": {
            "text/html": [
              "<div>\n",
              "<style scoped>\n",
              "    .dataframe tbody tr th:only-of-type {\n",
              "        vertical-align: middle;\n",
              "    }\n",
              "\n",
              "    .dataframe tbody tr th {\n",
              "        vertical-align: top;\n",
              "    }\n",
              "\n",
              "    .dataframe thead th {\n",
              "        text-align: right;\n",
              "    }\n",
              "</style>\n",
              "<table border=\"1\" class=\"dataframe\">\n",
              "  <thead>\n",
              "    <tr style=\"text-align: right;\">\n",
              "      <th></th>\n",
              "      <th>text</th>\n",
              "    </tr>\n",
              "  </thead>\n",
              "  <tbody>\n",
              "    <tr>\n",
              "      <th>150</th>\n",
              "      <td>Quando soube que  havia sido assassinada  eu t...</td>\n",
              "    </tr>\n",
              "    <tr>\n",
              "      <th>206</th>\n",
              "      <td>A “rachadinha” – apropriação de salários de as...</td>\n",
              "    </tr>\n",
              "    <tr>\n",
              "      <th>114</th>\n",
              "      <td>Assim como seis de   Bolsonaro designou um mil...</td>\n",
              "    </tr>\n",
              "    <tr>\n",
              "      <th>234</th>\n",
              "      <td>Assim que chegar a Brasília  (PSL)  que declar...</td>\n",
              "    </tr>\n",
              "    <tr>\n",
              "      <th>204</th>\n",
              "      <td>O  entrou em uma espiral de ataques internos. ...</td>\n",
              "    </tr>\n",
              "    <tr>\n",
              "      <th>104</th>\n",
              "      <td>O presidente do Brasil    se tornou nesta segu...</td>\n",
              "    </tr>\n",
              "    <tr>\n",
              "      <th>217</th>\n",
              "      <td>As enormes expectativas que acompanharam a sól...</td>\n",
              "    </tr>\n",
              "    <tr>\n",
              "      <th>235</th>\n",
              "      <td>A aprovação do Governo de  (PSL)  que completa...</td>\n",
              "    </tr>\n",
              "    <tr>\n",
              "      <th>100</th>\n",
              "      <td>O primeiro-ministro israelense foi o convidado...</td>\n",
              "    </tr>\n",
              "    <tr>\n",
              "      <th>237</th>\n",
              "      <td>“Isto aqui é uma psicanálise coletiva”  diz Ad...</td>\n",
              "    </tr>\n",
              "  </tbody>\n",
              "</table>\n",
              "</div>"
            ],
            "text/plain": [
              "                                                  text\n",
              "150  Quando soube que  havia sido assassinada  eu t...\n",
              "206  A “rachadinha” – apropriação de salários de as...\n",
              "114  Assim como seis de   Bolsonaro designou um mil...\n",
              "234  Assim que chegar a Brasília  (PSL)  que declar...\n",
              "204  O  entrou em uma espiral de ataques internos. ...\n",
              "104  O presidente do Brasil    se tornou nesta segu...\n",
              "217  As enormes expectativas que acompanharam a sól...\n",
              "235  A aprovação do Governo de  (PSL)  que completa...\n",
              "100  O primeiro-ministro israelense foi o convidado...\n",
              "237  “Isto aqui é uma psicanálise coletiva”  diz Ad..."
            ]
          },
          "metadata": {
            "tags": []
          },
          "execution_count": 68
        }
      ]
    },
    {
      "cell_type": "code",
      "metadata": {
        "id": "coQMVNwYS7Wd",
        "colab_type": "code",
        "colab": {}
      },
      "source": [
        "# query1.isin(term_at_a_time_retrieval(original_data[[\"text\"]], [\"apesar\"], doc_freq_df, 10))\n",
        "import itertools\n",
        "\n",
        "list1 = list(itertools.chain(term_at_a_time_retrieval(original_data[[\"text\"]], [\"polícia\"], doc_freq_df, doc_total), term_at_a_time_retrieval(original_data[[\"text\"]], [\"justiça\"], doc_freq_df, doc_total)))\n",
        "list2 = list(itertools.chain(term_at_a_time_retrieval(original_data[[\"text\"]], [\"polícia\"], doc_freq_df, doc_total), term_at_a_time_retrieval(original_data[[\"text\"]], [\"bolsonaro\"], doc_freq_df, doc_total)))\n",
        "list3 = list(itertools.chain(term_at_a_time_retrieval(original_data[[\"text\"]], [\"polícia\"], doc_freq_df, doc_total), term_at_a_time_retrieval(original_data[[\"text\"]], [\"política\"], doc_freq_df, doc_total)))\n",
        "list4 = list(itertools.chain(term_at_a_time_retrieval(original_data[[\"text\"]], [\"justiça\"], doc_freq_df, doc_total), term_at_a_time_retrieval(original_data[[\"text\"]], [\"apesar\"], doc_freq_df, doc_total)))\n",
        "list5 = list(itertools.chain(term_at_a_time_retrieval(original_data[[\"text\"]], [\"apesar\"], doc_freq_df, doc_total), term_at_a_time_retrieval(original_data[[\"text\"]], [\"bolsonaro\"], doc_freq_df, doc_total)))\n"
      ],
      "execution_count": 0,
      "outputs": []
    },
    {
      "cell_type": "code",
      "metadata": {
        "id": "eKNQx7trWI4g",
        "colab_type": "code",
        "outputId": "2d6b3c57-66ab-4a0d-b754-bf760ab688a8",
        "colab": {
          "base_uri": "https://localhost:8080/",
          "height": 34
        }
      },
      "source": [
        "set(query1.index).issubset(pd.DataFrame(list1).index), set(query2.index).issubset(pd.DataFrame(list2).index), set(query3.index).issubset(pd.DataFrame(list3).index), set(query4.index).issubset(pd.DataFrame(list4).index), set(query5.index).issubset(pd.DataFrame(list5).index)"
      ],
      "execution_count": 0,
      "outputs": [
        {
          "output_type": "execute_result",
          "data": {
            "text/plain": [
              "(True, True, True, True, True)"
            ]
          },
          "metadata": {
            "tags": []
          },
          "execution_count": 125
        }
      ]
    }
  ]
}